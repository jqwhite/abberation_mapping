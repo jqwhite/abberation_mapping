{
 "cells": [
  {
   "cell_type": "markdown",
   "id": "b14a188a-f82a-4a0a-a2b9-0c70ef5d68bc",
   "metadata": {
    "tags": []
   },
   "source": [
    "# Abberation mapping workflow 2: Analyze zola results #\n",
    "\n",
    "*26 Jan 2023 first refactoring*\n",
    "\n",
    "*07 Sep 2023 updates/troubleshooting*\n",
    "\n",
    "Originally by Debayan Saha.  Jamie White modified Debayan's notebooks. \n",
    "\n",
    "Updating for Jamie's environment on the cluster.\n",
    "\n",
    "Documenting installation / file locations.\n",
    "\n",
    "Cleaned-up version of workflow notebook."
   ]
  },
  {
   "cell_type": "markdown",
   "id": "6dc325d4-7dfb-417e-9582-e78c8fa8778a",
   "metadata": {},
   "source": [
    "## Load packages ##"
   ]
  },
  {
   "cell_type": "code",
   "execution_count": 1,
   "id": "7eb163ee-3b52-4dd3-be73-dfbca069399c",
   "metadata": {},
   "outputs": [],
   "source": [
    "import sys\n",
    "sys.path.append(\".\")\n",
    "# sys.path.append('/home/dsaha/.local/lib/python3.7/site-packages/')\n",
    "from main import *\n",
    "import warnings\n",
    "warnings.filterwarnings(action='once')\n",
    "import seaborn as sns\n",
    "import pandas as pd\n",
    "%load_ext autoreload\n",
    "%autoreload 2\n",
    "def min_max_norm(arr):\n",
    "    return (arr - np.min(arr))/(np.max(arr) - np.min(arr))"
   ]
  },
  {
   "cell_type": "code",
   "execution_count": 2,
   "id": "ae8ed9a5-5007-4875-971c-6fff259d0ba1",
   "metadata": {},
   "outputs": [
    {
     "name": "stdout",
     "output_type": "stream",
     "text": [
      "env: PATH=/sw/apps/cuda/10.0.130/libnvvp:/sw/apps/cuda/10.0.130/extras/CUPTI/lib64/:/sw/apps/jupyter-tensorboard/0.1.6/bin:/sw/apps/hdf5/1.8.16/bin:/sw/apps/cuda/10.0.130/bin:/sw/bin:/usr/lib64/qt-3.3/bin:/sbin:/bin:/usr/sbin:/usr/bin\n",
      "env: LD_LIBRARY_PATH=/sw/apps/hdf5/1.8.16/lib:/sw/apps/cuda/10.0.130/lib64:/sw/apps/cuda/10.0.130/lib:/sw/lib\n",
      "env: MODULEPATH=/sw/apps/modules/modulefiles:/usr/share/Modules/modulefiles:/etc/modulefiles:/lib/modules:/lib/modules/3.10.0-693.21.1.el7.x86_64\n"
     ]
    }
   ],
   "source": [
    "%env PATH=/sw/apps/cuda/10.0.130/libnvvp:/sw/apps/cuda/10.0.130/extras/CUPTI/lib64/:/sw/apps/jupyter-tensorboard/0.1.6/bin:/sw/apps/hdf5/1.8.16/bin:/sw/apps/cuda/10.0.130/bin:/sw/bin:/usr/lib64/qt-3.3/bin:/sbin:/bin:/usr/sbin:/usr/bin\n",
    "%env LD_LIBRARY_PATH=/sw/apps/hdf5/1.8.16/lib:/sw/apps/cuda/10.0.130/lib64:/sw/apps/cuda/10.0.130/lib:/sw/lib \n",
    "%env MODULEPATH=/sw/apps/modules/modulefiles:/usr/share/Modules/modulefiles:/etc/modulefiles:/lib/modules:/lib/modules/3.10.0-693.21.1.el7.x86_64"
   ]
  },
  {
   "cell_type": "markdown",
   "id": "f551abb1-2351-40a4-b19c-f8ae5e8b456f",
   "metadata": {},
   "source": [
    "# Inputs"
   ]
  },
  {
   "cell_type": "code",
   "execution_count": 3,
   "id": "7c7525f0-302d-40fd-b0e3-41e651f3ca63",
   "metadata": {},
   "outputs": [],
   "source": [
    "# dir\n",
    "img_path        = \"/home/jwhite/projects/aberration_mapping/data/andrea/2022_09_06_Beads_0p2_2ndfloorscope/beads.tif\""
   ]
  },
  {
   "cell_type": "code",
   "execution_count": 4,
   "id": "08fd565b-d278-44b4-9971-1bc5a641c982",
   "metadata": {
    "tags": []
   },
   "outputs": [
    {
     "data": {
      "text/plain": [
       "{'crop_shape': [40, 40, 40],\n",
       " 'unit': [0.1, 0.1, 0.1],\n",
       " 'abb_list': [3, 5, 6, 7, 8, 9, 10, 11, 12, 13, 14],\n",
       " 'FIJI_MACRO_PATH': '/home/jwhite/projects/aberration_mapping/imageJ_macros/zola_macro_cluster_1p2_z_100_2ndfloor.ijm',\n",
       " 'COMPUTERNAME': 'r02n14',\n",
       " 'thresh_bck': 10,\n",
       " 'lam': 0.515,\n",
       " 'thresh_dist': 11.299999999999999,\n",
       " 'save_dir': '/home/jwhite/projects/aberration_mapping/data/andrea/2022_09_06_Beads_0p2_2ndfloorscope',\n",
       " 'num_folders': 50}"
      ]
     },
     "execution_count": 4,
     "metadata": {},
     "output_type": "execute_result"
    }
   ],
   "source": [
    "# params\n",
    "old_params = setup_param_file(img_path, load_mode=True)\n",
    "\n",
    "unit     = old_params.get('unit') \n",
    "abb_list = old_params.get('abb_list')\n",
    "save_dir = old_params.get('save_dir')\n",
    "lam      = old_params.get('lam')\n",
    "\n",
    "old_params"
   ]
  },
  {
   "cell_type": "markdown",
   "id": "1bbd2532-4596-4ef7-a13d-e18251f788cd",
   "metadata": {},
   "source": [
    "## Check the Fiji macro in use"
   ]
  },
  {
   "cell_type": "code",
   "execution_count": 5,
   "id": "dc10f8c5-2818-471e-9fe3-3d8d2a103423",
   "metadata": {},
   "outputs": [
    {
     "data": {
      "text/plain": [
       "'/home/jwhite/projects/aberration_mapping/imageJ_macros/zola_macro_cluster_1p2_z_100_2ndfloor.ijm'"
      ]
     },
     "execution_count": 5,
     "metadata": {},
     "output_type": "execute_result"
    }
   ],
   "source": [
    "old_params['FIJI_MACRO_PATH']"
   ]
  },
  {
   "cell_type": "markdown",
   "id": "ea488003-b2c3-4570-ab12-d3bc15242954",
   "metadata": {},
   "source": [
    "## Check the save directory files"
   ]
  },
  {
   "cell_type": "code",
   "execution_count": 6,
   "id": "a601dd06-d8a7-4b2e-bcd0-6e9016946c57",
   "metadata": {},
   "outputs": [
    {
     "data": {
      "text/plain": [
       "'/home/jwhite/projects/aberration_mapping/data/andrea/2022_09_06_Beads_0p2_2ndfloorscope'"
      ]
     },
     "execution_count": 6,
     "metadata": {},
     "output_type": "execute_result"
    }
   ],
   "source": [
    "save_dir"
   ]
  },
  {
   "cell_type": "code",
   "execution_count": 7,
   "id": "420940c3-48d2-40fd-a2bd-b456a2fe34d8",
   "metadata": {},
   "outputs": [
    {
     "name": "stdout",
     "output_type": "stream",
     "text": [
      "abb_maps\t\t      measurements\tpoints\n",
      "accepted_points_in_image.png  med_measurement\tResults.csv\n",
      "accepted_zola\t\t      params.json\trmswe\n",
      "amplitude_distribution.png    patches_for_zola\tselected_widths.npy\n",
      "beads.tif\t\t      point_boxes\tselected_widths.png\n",
      "label_map.tif\t\t      pointlist.npy\n"
     ]
    }
   ],
   "source": [
    "! ls \"{save_dir}\""
   ]
  },
  {
   "cell_type": "markdown",
   "id": "b9e0ca0a-af91-49fb-a5b4-3a688ec39ec6",
   "metadata": {},
   "source": [
    "# Load zola and select the stable results"
   ]
  },
  {
   "cell_type": "code",
   "execution_count": 8,
   "id": "af491fd6-2f9f-4451-88d3-bb2edd535f21",
   "metadata": {},
   "outputs": [
    {
     "name": "stderr",
     "output_type": "stream",
     "text": [
      "0it [00:00, ?it/s]\n"
     ]
    }
   ],
   "source": [
    "zola_full = load_and_select_zola_files(save_dir, lam, headless=True, show_plots=False)"
   ]
  },
  {
   "cell_type": "code",
   "execution_count": 11,
   "id": "bad4497e-543f-4175-8fef-2485f3760bf2",
   "metadata": {},
   "outputs": [
    {
     "data": {
      "text/plain": [
       "OrderedDict()"
      ]
     },
     "execution_count": 11,
     "metadata": {},
     "output_type": "execute_result"
    }
   ],
   "source": [
    "zola_full"
   ]
  },
  {
   "cell_type": "markdown",
   "id": "fbb1be69-af42-4027-aa3e-492ebfad4d0b",
   "metadata": {},
   "source": [
    "# Filter zola results by neighbors"
   ]
  },
  {
   "cell_type": "code",
   "execution_count": 10,
   "id": "7043ac5b-0cba-4351-b655-f6c379fabb33",
   "metadata": {},
   "outputs": [
    {
     "name": "stdout",
     "output_type": "stream",
     "text": [
      "Zola_files before filtering 0\n"
     ]
    },
    {
     "ename": "IndexError",
     "evalue": "too many indices for array: array is 1-dimensional, but 2 were indexed",
     "output_type": "error",
     "traceback": [
      "\u001b[0;31m---------------------------------------------------------------------------\u001b[0m",
      "\u001b[0;31mIndexError\u001b[0m                                Traceback (most recent call last)",
      "Cell \u001b[0;32mIn[10], line 2\u001b[0m\n\u001b[1;32m      1\u001b[0m \u001b[38;5;28mprint\u001b[39m(\u001b[38;5;124mf\u001b[39m\u001b[38;5;124m\"\u001b[39m\u001b[38;5;124mZola_files before filtering \u001b[39m\u001b[38;5;132;01m{\u001b[39;00m\u001b[38;5;28mlen\u001b[39m(zola_full)\u001b[38;5;132;01m}\u001b[39;00m\u001b[38;5;124m\"\u001b[39m)\n\u001b[0;32m----> 2\u001b[0m med_del_keys \u001b[38;5;241m=\u001b[39m \u001b[43mfilter_files_by_med_dist_of_neighbors\u001b[49m\u001b[43m(\u001b[49m\u001b[43mzola_full\u001b[49m\u001b[43m)\u001b[49m\n\u001b[1;32m      3\u001b[0m \u001b[38;5;28mprint\u001b[39m(\u001b[38;5;124mf\u001b[39m\u001b[38;5;124m\"\u001b[39m\u001b[38;5;124mDeleting \u001b[39m\u001b[38;5;132;01m{\u001b[39;00m\u001b[38;5;28mlen\u001b[39m(med_del_keys)\u001b[38;5;132;01m}\u001b[39;00m\u001b[38;5;124m points because there medians values are far away from observed values\u001b[39m\u001b[38;5;124m\"\u001b[39m)\n\u001b[1;32m      5\u001b[0m \u001b[38;5;66;03m# deleting the zola files\u001b[39;00m\n",
      "File \u001b[0;32m/lustre/projects/project-jwhite/projects/aberration_mapping/main.py:610\u001b[0m, in \u001b[0;36mfilter_files_by_med_dist_of_neighbors\u001b[0;34m(zola_full, abb_list, diff_thresh, headless)\u001b[0m\n\u001b[1;32m    607\u001b[0m median_del_keys \u001b[38;5;241m=\u001b[39m []\n\u001b[1;32m    609\u001b[0m \u001b[38;5;28;01mfor\u001b[39;00m i \u001b[38;5;129;01min\u001b[39;00m abb_list:\n\u001b[0;32m--> 610\u001b[0m     med_del_key \u001b[38;5;241m=\u001b[39m \u001b[43mselect_files_by_med_dist_of_neighbors\u001b[49m\u001b[43m(\u001b[49m\u001b[43mzola_full\u001b[49m\u001b[43m,\u001b[49m\u001b[43m \u001b[49m\u001b[43mmode_num_for_median_disp\u001b[49m\u001b[38;5;241;43m=\u001b[39;49m\u001b[43mi\u001b[49m\u001b[43m,\u001b[49m\u001b[43mdiff_thresh\u001b[49m\u001b[38;5;241;43m=\u001b[39;49m\u001b[43mdiff_thresh\u001b[49m\u001b[43m)\u001b[49m\n\u001b[1;32m    611\u001b[0m     median_del_keys \u001b[38;5;241m=\u001b[39m median_del_keys\u001b[38;5;241m+\u001b[39mmed_del_key\n\u001b[1;32m    612\u001b[0m \u001b[38;5;28;01mreturn\u001b[39;00m np\u001b[38;5;241m.\u001b[39munique(np\u001b[38;5;241m.\u001b[39marray(median_del_keys))\n",
      "File \u001b[0;32m/lustre/projects/project-jwhite/projects/aberration_mapping/main.py:577\u001b[0m, in \u001b[0;36mselect_files_by_med_dist_of_neighbors\u001b[0;34m(zola_full, mode_num_for_median_disp, diff_thresh, scale_factor)\u001b[0m\n\u001b[1;32m    575\u001b[0m point_list \u001b[38;5;241m=\u001b[39m np\u001b[38;5;241m.\u001b[39marray([np\u001b[38;5;241m.\u001b[39mdivide(\u001b[38;5;28mlist\u001b[39m(\u001b[38;5;28mmap\u001b[39m(\u001b[38;5;28mint\u001b[39m, re\u001b[38;5;241m.\u001b[39mfindall(\u001b[38;5;124mr\u001b[39m\u001b[38;5;124m'\u001b[39m\u001b[38;5;124m\\\u001b[39m\u001b[38;5;124md+\u001b[39m\u001b[38;5;124m'\u001b[39m, key))), (scale_factor,)) \u001b[38;5;28;01mfor\u001b[39;00m key \u001b[38;5;129;01min\u001b[39;00m zola_full\u001b[38;5;241m.\u001b[39mkeys()])\n\u001b[1;32m    576\u001b[0m ori_point_list \u001b[38;5;241m=\u001b[39m np\u001b[38;5;241m.\u001b[39marray([\u001b[38;5;28mlist\u001b[39m(\u001b[38;5;28mmap\u001b[39m(\u001b[38;5;28mint\u001b[39m, re\u001b[38;5;241m.\u001b[39mfindall(\u001b[38;5;124mr\u001b[39m\u001b[38;5;124m'\u001b[39m\u001b[38;5;124m\\\u001b[39m\u001b[38;5;124md+\u001b[39m\u001b[38;5;124m'\u001b[39m, key))) \u001b[38;5;28;01mfor\u001b[39;00m key \u001b[38;5;129;01min\u001b[39;00m zola_full\u001b[38;5;241m.\u001b[39mkeys()])\n\u001b[0;32m--> 577\u001b[0m point_list[:,[\u001b[38;5;241m0\u001b[39m,\u001b[38;5;241m1\u001b[39m,\u001b[38;5;241m2\u001b[39m]] \u001b[38;5;241m=\u001b[39m \u001b[43mpoint_list\u001b[49m\u001b[43m[\u001b[49m\u001b[43m:\u001b[49m\u001b[43m,\u001b[49m\u001b[43m[\u001b[49m\u001b[38;5;241;43m2\u001b[39;49m\u001b[43m,\u001b[49m\u001b[38;5;241;43m1\u001b[39;49m\u001b[43m,\u001b[49m\u001b[38;5;241;43m0\u001b[39;49m\u001b[43m]\u001b[49m\u001b[43m]\u001b[49m \u001b[38;5;66;03m# changing x and z for pyclesperanto\u001b[39;00m\n\u001b[1;32m    578\u001b[0m point_list \u001b[38;5;241m=\u001b[39m point_list\u001b[38;5;241m.\u001b[39mT\n\u001b[1;32m    580\u001b[0m \u001b[38;5;66;03m# label the pixels whose value is known\u001b[39;00m\n\u001b[1;32m    581\u001b[0m \u001b[38;5;66;03m# fix point_list array September 2023 jw\u001b[39;00m\n\u001b[1;32m    582\u001b[0m \u001b[38;5;66;03m# labeled_pixel = cle.pointlist_to_labelled_spots(cle.push(point_list.T))\u001b[39;00m\n",
      "\u001b[0;31mIndexError\u001b[0m: too many indices for array: array is 1-dimensional, but 2 were indexed"
     ]
    }
   ],
   "source": [
    "print(f\"Zola_files before filtering {len(zola_full)}\")\n",
    "med_del_keys = filter_files_by_med_dist_of_neighbors(zola_full)\n",
    "print(f\"Deleting {len(med_del_keys)} points because there medians values are far away from observed values\")\n",
    "\n",
    "# deleting the zola files\n",
    "[zola_full.pop(x, None) for x in med_del_keys]\n",
    "print(f\"Final number of zola_files after filtering {len(zola_full)}\")"
   ]
  },
  {
   "cell_type": "markdown",
   "id": "b1bec292-ccf1-476a-9dbd-935a9485c056",
   "metadata": {
    "tags": []
   },
   "source": [
    "# Load corresponding crops"
   ]
  },
  {
   "cell_type": "code",
   "execution_count": null,
   "id": "a24c5192-08f1-4993-a8f9-fc25baa49a70",
   "metadata": {},
   "outputs": [],
   "source": [
    "plane_num = 10\n",
    "crops = {key: tifffile.imread(f\"{os.path.dirname(img_path)}/patches_for_zola/patches*/planes_{plane_num}_{key}.tif\") for key in zola_full.keys()}\n",
    "print(len(zola_full), len(crops))"
   ]
  },
  {
   "cell_type": "markdown",
   "id": "d19f4b5b-a57c-4937-8729-c5ee504d0d68",
   "metadata": {},
   "source": [
    "# Show the accepted crops"
   ]
  },
  {
   "cell_type": "code",
   "execution_count": null,
   "id": "8e7afd9a-0699-4bee-8988-a8912ac35c16",
   "metadata": {},
   "outputs": [],
   "source": [
    "count = 0\n",
    "for key,val in crops.items():\n",
    "    count = count + 1\n",
    "    print(key, np.max(val) - np.median(val))\n",
    "    axs = show_patch(val)\n",
    "    plt.plot(zola_full[key].values())\n",
    "    plt.ylim(-0.2,0.2)\n",
    "    plt.show()\n",
    "    if count>50:\n",
    "        break"
   ]
  },
  {
   "cell_type": "markdown",
   "id": "b4166edc-d8b5-4088-a088-aabb7ab2adaf",
   "metadata": {},
   "source": [
    "# Plot the distribution"
   ]
  },
  {
   "cell_type": "code",
   "execution_count": null,
   "id": "e04972f7-97e3-4173-8737-d907ca51a6fb",
   "metadata": {},
   "outputs": [],
   "source": [
    "vals = np.array([list(z.values()) for z in zola_full.values()])\n",
    "colum_name = ['astig_x','astig_y', 'vert_y', 'coma_y', 'coma_x', 'trefoil_x', 'quadrafoil_x', 'sec_astig_x', 'spherical', 'sec_astig_y', 'quadrafoil_y']\n",
    "p1 = pd.DataFrame(data=vals, columns=colum_name)\n",
    "df_c = pd.melt(p1)"
   ]
  },
  {
   "cell_type": "code",
   "execution_count": null,
   "id": "4fca54ed-2e3f-4ca2-8b8c-5199b70b4abf",
   "metadata": {},
   "outputs": [],
   "source": [
    "# plt.style.use('dark_background')\n",
    "fig,axes = plt.subplots(1,1,figsize=(15,7))\n",
    "# g = sns.violinplot(data =df_c, x='variable',y='value', inner='quartile');\n",
    "g = sns.swarmplot(data =df_c, x='variable',y='value');\n",
    "plt.xticks(rotation=90, size=20)\n",
    "plt.hlines(xmax=10.5, xmin=-0.5, y=0)\n",
    "plt.xlabel(\"Zernike mode (ANSI order)\", size=18)\n",
    "plt.ylabel(\"Aberration amplitude in $\\\\mu$m\",size=18)\n",
    "plt.ylim(-0.3,0.3)\n",
    "plt.yticks(size=20)\n",
    "plt.tight_layout()\n",
    "plt.show()\n",
    "fig.savefig(f\"{save_dir}/amplitude_distribution.png\", transparent=True)"
   ]
  },
  {
   "cell_type": "markdown",
   "id": "872ce2cf-65e6-4820-ad2b-411e9cef3a06",
   "metadata": {},
   "source": [
    "# Widths"
   ]
  },
  {
   "cell_type": "code",
   "execution_count": null,
   "id": "9da1f371-424e-4eaa-889f-b63f039227d2",
   "metadata": {
    "tags": []
   },
   "outputs": [],
   "source": [
    "fwhm = get_xyz_widths(crops, unit=unit, headless=True)\n",
    "print(f\"Could measure {len(fwhm)} widths\")"
   ]
  },
  {
   "cell_type": "code",
   "execution_count": null,
   "id": "81c057ae-0695-4aa9-a7b6-cb753b2e9b2e",
   "metadata": {
    "tags": []
   },
   "outputs": [],
   "source": [
    "# plot the histogram of widths\n",
    "arr = np.array(list(fwhm.values()))\n",
    "max_bin=5\n",
    "n_bins = 20\n",
    "bins = np.linspace(0,max_bin,n_bins);\n",
    "colors = ('r','b','g')\n",
    "names = ('FWHM_z','FWHM_y','FWHM_x')\n",
    "for i,(a,c) in enumerate(zip(arr.T, colors)):\n",
    "    sns.histplot(data=np.clip(a,bins[0], bins[-1]), bins=bins,kde=False, color=c, label=names[i]);\n",
    "plt.legend() ;\n",
    "plt.xlabel(r\"FWHM in $\\mu m$\");\n",
    "# plt.xlim(0.2,)\n",
    "plt.savefig(f\"{save_dir}/selected_widths.png\")\n",
    "np.save(f\"{save_dir}/selected_widths.npy\", arr)"
   ]
  },
  {
   "cell_type": "markdown",
   "id": "0012487f-1879-44cf-900a-2f412fecf14e",
   "metadata": {
    "tags": []
   },
   "source": [
    "# Aberration maps"
   ]
  },
  {
   "cell_type": "code",
   "execution_count": null,
   "id": "f4be1bda-c87c-4745-9eb1-6cc0f771a69e",
   "metadata": {},
   "outputs": [],
   "source": [
    "create_abb_map(img_path, zola_full, scale_factor=(4,4,4))"
   ]
  },
  {
   "cell_type": "markdown",
   "id": "44789245-28f2-45ef-9d50-3c47beb45868",
   "metadata": {},
   "source": [
    "# RMSWE"
   ]
  },
  {
   "cell_type": "code",
   "execution_count": null,
   "id": "39e6b9ae-1021-47b0-bdae-251af8df6729",
   "metadata": {},
   "outputs": [],
   "source": [
    "save_dir"
   ]
  },
  {
   "cell_type": "code",
   "execution_count": null,
   "id": "dd66fc7d-6881-4ab5-a48f-8acf87c75991",
   "metadata": {},
   "outputs": [],
   "source": [
    "! ls \"{save_dir}\""
   ]
  },
  {
   "cell_type": "code",
   "execution_count": null,
   "id": "e945dae4-85ba-4a2e-b8af-8b6faa7c83c1",
   "metadata": {
    "tags": []
   },
   "outputs": [],
   "source": [
    "find_rmswe(save_dir)"
   ]
  },
  {
   "cell_type": "code",
   "execution_count": null,
   "id": "f01b0161-db39-40a1-bd0f-601c1d42464a",
   "metadata": {},
   "outputs": [],
   "source": []
  }
 ],
 "metadata": {
  "kernelspec": {
   "display_name": "Python 3 (ipykernel)",
   "language": "python",
   "name": "python3"
  },
  "language_info": {
   "codemirror_mode": {
    "name": "ipython",
    "version": 3
   },
   "file_extension": ".py",
   "mimetype": "text/x-python",
   "name": "python",
   "nbconvert_exporter": "python",
   "pygments_lexer": "ipython3",
   "version": "3.11.0"
  }
 },
 "nbformat": 4,
 "nbformat_minor": 5
}
