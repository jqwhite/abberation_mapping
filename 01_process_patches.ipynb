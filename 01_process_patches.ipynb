{
 "cells": [
  {
   "cell_type": "markdown",
   "id": "4ed2fb3f-c7f4-4307-9b44-9d82406e0acc",
   "metadata": {},
   "source": [
    "# Abberation mapping workflow 1: Process patches #\n",
    "\n",
    "*25 January 2023*\n",
    "\n",
    "*11 September 2023*\n",
    "\n",
    "*27 September 2023*\n",
    "\n",
    "Originally by Debayan Saha.  Jamie White modified Debayan's notebooks. \n",
    "\n",
    "Updating for Jamie's environment on the cluster.\n",
    "\n",
    "Documenting installation / file locations.\n",
    "\n",
    "Tried to update to run notebooks locally on a Mac / PC.  The psf modeling is super compute intensive, so it needs to be done on the cluster. Strategy: execute cluster commands via ssh."
   ]
  },
  {
   "cell_type": "markdown",
   "id": "9b73417e0d5c7fc5",
   "metadata": {},
   "source": [
    "**Logistics**\n",
    "\n",
    "1. Copy the folder `patches_for_zola` to the remote using ssh (needs to be set up with ssh passkeys between local and remote (falcon). Remove the `patches_for_zola` folder from the remote before copying, if it exists. \n",
    "2. slurm calls a bashscript shell script to initialize processes on the cluster: <br> `sbatch {remote_project_path}/scripts/bashscript3.sh`\n",
    "2. In turn, the bash script sets up slurm jobs on gpu nodes of the cluster and calls ImageJ to run a macro stored in the variable `remote_fiji_macro_path` in headless batch mode.\n",
    "3. The ImageJ macro runs the \"Calibration: PSF modeling\" plugin from the with the parameters stored in the `imageJ_macro_parameters` variable.  The macro should **not** need to be modified for each experiment.\n",
    "4. The ImageJ plugin models the zola_raw data for each bead in the `zola_raw` folder\n",
    "5. Copy the `zola_raw` folder from the cluster to the local machine using sftp and paramiko. "
   ]
  },
  {
   "cell_type": "markdown",
   "id": "f114ce9d-7fc1-49b0-bc30-1a3d695bda96",
   "metadata": {},
   "source": [
    "## Environment paths ##\n",
    "\n",
    "Not necessary in local non-cuda environment; transfer these to script executed via ssh."
   ]
  },
  {
   "cell_type": "code",
   "execution_count": 30,
   "id": "e9fb4d6c",
   "metadata": {
    "ExecuteTime": {
     "end_time": "2023-11-01T13:02:39.808852Z",
     "start_time": "2023-11-01T13:02:39.483648Z"
    }
   },
   "outputs": [],
   "source": [
    "# # not necessary for running locally on a mac  \n",
    "# %env PATH=/sw/ap|ps/python3/3.7.4/bin:/sw/apps/jupyter-tensorboard/0.1.6/bin:/sw/apps/hdf5/1.8.16/bin:/sw/apps/cuda/10.0.130/bin:/sw/bin:/usr/lib64/qt-3.3/bin:/sbin:/bin:/usr/sbin:/usr/bin\n",
    "# %env LD_LIBRARY_PATH=/sw/apps/python3/3.7.4/lib:/sw/apps/hdf5/1.8.16/lib:/sw/apps/cuda/10.0.130/lib64:/sw/apps/cuda/10.0.130/lib:/sw/lib"
   ]
  },
  {
   "cell_type": "code",
   "execution_count": 31,
   "id": "f31f67d0-2c59-431f-80c6-aeebb65d32b6",
   "metadata": {
    "ExecuteTime": {
     "end_time": "2023-11-01T13:02:40.027811Z",
     "start_time": "2023-11-01T13:02:39.496953Z"
    }
   },
   "outputs": [],
   "source": [
    "# ! env"
   ]
  },
  {
   "cell_type": "markdown",
   "id": "581025a1-8f50-4772-bf17-3fdba8900087",
   "metadata": {},
   "source": [
    "## Load packages ##"
   ]
  },
  {
   "cell_type": "code",
   "execution_count": 32,
   "id": "35cccb16",
   "metadata": {
    "scrolled": true,
    "tags": [],
    "ExecuteTime": {
     "end_time": "2023-11-01T13:02:40.045994Z",
     "start_time": "2023-11-01T13:02:39.509455Z"
    }
   },
   "outputs": [],
   "source": [
    "import numpy as np\n",
    "import matplotlib.pyplot as plt\n",
    "import sys\n",
    "sys.path.append(\".\")\n",
    "# sys.path.append('/home/dsaha/.local/lib/python3.7/site-packages/')\n",
    "from main import *\n",
    "import os\n",
    "import shlex\n",
    "import paramiko\n",
    "import tifffile\n",
    "import shutil\n",
    "import warnings\n",
    "import tqdm\n",
    "from IPython.display import display, clear_output\n",
    "from time import sleep\n",
    "\n",
    "import skimage.io\n",
    "import skimage.filters\n",
    "import skimage.measure\n",
    "import skimage.color"
   ]
  },
  {
   "cell_type": "code",
   "execution_count": 33,
   "id": "2d6e073efc1abfbf",
   "metadata": {
    "collapsed": false,
    "ExecuteTime": {
     "end_time": "2023-11-01T13:02:40.146924Z",
     "start_time": "2023-11-01T13:02:39.521550Z"
    }
   },
   "outputs": [
    {
     "name": "stdout",
     "output_type": "stream",
     "text": [
      "The autoreload extension is already loaded. To reload it, use:\n",
      "  %reload_ext autoreload\n"
     ]
    }
   ],
   "source": [
    "warnings.filterwarnings(action='once')\n",
    "%load_ext autoreload\n",
    "%autoreload 2"
   ]
  },
  {
   "cell_type": "markdown",
   "id": "c12c432002d25f42",
   "metadata": {},
   "source": [
    "### Files ###\n",
    "Change the files for the experiment here."
   ]
  },
  {
   "cell_type": "code",
   "execution_count": 34,
   "id": "5ec2e891280df6dd",
   "metadata": {
    "collapsed": false,
    "ExecuteTime": {
     "end_time": "2023-11-01T13:02:40.273294Z",
     "start_time": "2023-11-01T13:02:39.534802Z"
    }
   },
   "outputs": [],
   "source": [
    "# relative path to bead image stack\n",
    "image_file = \"data/andrea/2022_09_06_Beads_0p2_2ndfloorscope_test2/beads.tif\"\n",
    "# image_file = \"data/andrea/0p5mkBeadsDICHmirror_4_test/0p5mk.tif\"\n",
    "\n",
    "# Results file is csv of X,Y bead locations in the image stack\n",
    "# by hand: maximum intensity projection of stack, then \n",
    "results_file = \"Results.csv\"\n",
    "results_path = f\"{os.path.dirname((image_file))}/{results_file}\""
   ]
  },
  {
   "cell_type": "code",
   "execution_count": 35,
   "id": "a2d068cf9a93b632",
   "metadata": {
    "collapsed": false,
    "ExecuteTime": {
     "end_time": "2023-11-01T13:02:40.335704Z",
     "start_time": "2023-11-01T13:02:39.546918Z"
    }
   },
   "outputs": [],
   "source": [
    "# ImageJ executable location on **cluster**\n",
    "remote_fiji_path = '/home/jwhite/fiji/Fiji.app/ImageJ-linux64'\n",
    "# project location on cluster\n",
    "# project files are relative to this location\n",
    "# and should be duplicated on the local machine\n",
    "remote_project_base_path = '/home/jwhite/projects/aberration_mapping/'\n",
    "# macro location: relative, for both machines\n",
    "fiji_macro_dir  =  \"imageJ_macros/\" \n",
    "# select proper macro \n",
    "fiji_macro      = 'zola_macro_cluster_params_passed.ijm'# path to custom macros for running on cluster"
   ]
  },
  {
   "cell_type": "code",
   "execution_count": 36,
   "id": "f5a881b37a74a06c",
   "metadata": {
    "collapsed": false,
    "ExecuteTime": {
     "end_time": "2023-11-01T13:02:40.403212Z",
     "start_time": "2023-11-01T13:02:39.558529Z"
    }
   },
   "outputs": [],
   "source": [
    "# script for starting zola analysis on cluster\n",
    "zola_script_dir = 'scripts/'\n",
    "# script to use\n",
    "# bashscript_fiji3.sh currently accepts paramters defined in this notebook and does not need to be edited for each analysis\n",
    "zola_script     = 'bashscript_fiji3.sh'"
   ]
  },
  {
   "cell_type": "markdown",
   "id": "f0dd1f7da7526aa7",
   "metadata": {},
   "source": []
  },
  {
   "cell_type": "markdown",
   "id": "9883afb4a633c2bf",
   "metadata": {},
   "source": [
    "### Parameters ###\n",
    "\n",
    "Change the paramters for the experiment here."
   ]
  },
  {
   "cell_type": "code",
   "execution_count": 37,
   "id": "453d3d230d1124",
   "metadata": {
    "collapsed": false,
    "ExecuteTime": {
     "end_time": "2023-11-01T13:02:40.471220Z",
     "start_time": "2023-11-01T13:02:39.570204Z"
    }
   },
   "outputs": [],
   "source": [
    "# set new parameters\n",
    "crop_shape      = [40, 40, 40]\n",
    "unit            = [0.1, 0.06, 0.06]\n",
    "abb_list        = [3, 5, 6, 7, 8, 9, 10, 11, 12, 13, 14]\n",
    "thresh_bck      = 10\n",
    "num_folders     = 50\n",
    "thresh_dist     = 11.29999999999999999999999999999999999\n",
    "lam             = 0.515\n",
    "\n",
    "# for psf macro\n",
    "pixel_size           = 100 # pixel size in nanometers\n",
    "z_step               = 100 # spacing of the z-slices, in nanometers\n",
    "bead_moving          = \"far -> close to objective\"\n",
    "immersion_refractive = 1.33\n",
    "numerical_aperture   = 1.2  # NA of objective used to image beads\n",
    "patch_size           = 64\n",
    "zernike_coefficient  = \"Zernike 15 coefs\"\n",
    "iteration            = 100 # check deb's custom macros"
   ]
  },
  {
   "cell_type": "code",
   "execution_count": 38,
   "id": "4c36d4710b0b7cd5",
   "metadata": {
    "collapsed": false,
    "ExecuteTime": {
     "end_time": "2023-11-01T13:02:40.506721Z",
     "start_time": "2023-11-01T13:02:39.581995Z"
    }
   },
   "outputs": [
    {
     "data": {
      "text/plain": "'\"run_on_gpuQgain=1Qpixel_size=100Qz_step=100Qbead_moving=[farQ-RQcloseQtoQobjective]Qnumerical_aperture=1.2Qimmersion_refractive=1.33Qwavelength=0.515Qpatch_size=64Qzernike_coefficient=[ZernikeQ15Qcoefs]Qiteration=100Qresult_calibration_file=\"'"
     },
     "execution_count": 38,
     "metadata": {},
     "output_type": "execute_result"
    }
   ],
   "source": [
    "# construct parameter string for the psf modeling ImageJ plugin \n",
    "# to be called on a gpu node of the HPC cluster by slurm\n",
    "'''\n",
    "run(\" Calibration: PSF modeling\", \" run_on_gpu gain=1 pixel_size=100 z_step=50 bead_moving=[{bead_moving}] numerical_aperture=1.2 immersion_refractive=1.33 wavelength={lam} patch_size=\"+wid+\" zernike_coefficient=[Zernike 15 coefs] iteration=100 result_calibration_file=\"+output);\n",
    "'''\n",
    "#use the gpu\n",
    "imageJ_macro_parameters = f'run_on_gpu gain=1 pixel_size={pixel_size} z_step={z_step} bead_moving=[{bead_moving}] numerical_aperture={numerical_aperture} immersion_refractive={immersion_refractive} wavelength={lam} patch_size={patch_size} zernike_coefficient=[{zernike_coefficient}] iteration={iteration} result_calibration_file='\n",
    "# no gpu\n",
    "# imageJ_macro_parameters = f'gain=1 pixel_size={pixel_size} z_step={z_step} bead_moving=[{bead_moving}] numerical_aperture={numerical_aperture} immersion_refractive={immersion_refractive} wavelength={lam} patch_size={patch_size} zernike_coefficient=[{zernike_coefficient}] iteration={iteration} result_calibration_file='\n",
    "\n",
    "imageJ_macro_parameters = f\"\\\"{imageJ_macro_parameters}\\\"\"\n",
    "# print(imageJ_macro_parameters)\n",
    "# spaces are causing problems when passed to command line, so use \"Q\" as a spacer\n",
    "# the > is also problematic, replace with R\n",
    "imageJ_macro_parameters = imageJ_macro_parameters.replace(\" \", \"Q\").replace(\">\", \"R\")\n",
    "imageJ_macro_parameters"
   ]
  },
  {
   "cell_type": "markdown",
   "id": "8c764cee-850c-40b2-8606-1653a5ed1e8f",
   "metadata": {},
   "source": [
    "## Utility functions ##"
   ]
  },
  {
   "cell_type": "code",
   "execution_count": 39,
   "id": "57ed2b3f-6222-429f-9ec6-3c77b78be11a",
   "metadata": {
    "collapsed": false,
    "ExecuteTime": {
     "end_time": "2023-11-01T13:02:40.577935Z",
     "start_time": "2023-11-01T13:02:39.594274Z"
    }
   },
   "outputs": [],
   "source": [
    "def pretty_print_dict(d):\n",
    "    print(json.dumps(d, indent=4))\n",
    "    \n",
    "def min_max_norm(arr):\n",
    "    return (arr - np.min(arr))/(np.max(arr) - np.min(arr))"
   ]
  },
  {
   "cell_type": "markdown",
   "id": "d98dc9be9eb5995b",
   "metadata": {},
   "source": [
    "## Initialize paramiko for ssh and sftp connections"
   ]
  },
  {
   "cell_type": "code",
   "execution_count": 40,
   "id": "1fbe82da074fe1f7",
   "metadata": {
    "collapsed": false,
    "ExecuteTime": {
     "end_time": "2023-11-01T13:02:40.819740Z",
     "start_time": "2023-11-01T13:02:39.606618Z"
    }
   },
   "outputs": [],
   "source": [
    "# SSH Configuration\n",
    "hostname = 'falcon'\n",
    "port = 22  # default SSH port, change if needed\n",
    "username = 'jwhite'\n",
    "# \n",
    "# local_file_path = '~/data/mydatafile.txt'\n",
    "# remote_file_path = '~/data/mydatafile.txt'\n",
    "\n",
    "# Use the private key for authentication\n",
    "private_key_path = os.path.expanduser(\"~/.ssh/id_rsa\")\n",
    "private_key = paramiko.RSAKey(filename=private_key_path)\n",
    "\n",
    "# Initialize SSH client\n",
    "ssh_client = paramiko.SSHClient()\n",
    "ssh_client.set_missing_host_key_policy(paramiko.AutoAddPolicy())  # auto-accept the server's host key"
   ]
  },
  {
   "cell_type": "markdown",
   "id": "166d768eea547f55",
   "metadata": {},
   "source": [
    "___"
   ]
  },
  {
   "cell_type": "markdown",
   "id": "6e3ad0e07ebd6f7b",
   "metadata": {},
   "source": [
    "## Generate additional files and parameters ##"
   ]
  },
  {
   "cell_type": "markdown",
   "id": "dfc51b61842e15e8",
   "metadata": {},
   "source": [
    "The notebook assumes everything is set locally and tries to reproduce the local project space on the remote `falcon` using the `paramiko` python package."
   ]
  },
  {
   "cell_type": "markdown",
   "id": "205e4ada",
   "metadata": {},
   "source": [
    "## Construct local filepaths ##\n",
    "\n",
    "From current working directory. "
   ]
  },
  {
   "cell_type": "code",
   "execution_count": 41,
   "id": "fa3314002ebbf8c0",
   "metadata": {
    "collapsed": false,
    "ExecuteTime": {
     "end_time": "2023-11-01T13:02:40.820198Z",
     "start_time": "2023-11-01T13:02:39.719663Z"
    }
   },
   "outputs": [
    {
     "data": {
      "text/plain": "'/Users/jwhite/Library/Mobile Documents/com~apple~CloudDocs/Science/Grill_Lab/Projects/aberration_mapping/'"
     },
     "execution_count": 41,
     "metadata": {},
     "output_type": "execute_result"
    }
   ],
   "source": [
    "local_base_path = os.getcwd()+'/' # everything relative to the notebook directory\n",
    "local_base_path"
   ]
  },
  {
   "cell_type": "code",
   "execution_count": 42,
   "id": "279565008b5deac5",
   "metadata": {
    "collapsed": false,
    "ExecuteTime": {
     "end_time": "2023-11-01T13:02:40.820584Z",
     "start_time": "2023-11-01T13:02:39.733977Z"
    }
   },
   "outputs": [
    {
     "data": {
      "text/plain": "'/Users/jwhite/Library/Mobile Documents/com~apple~CloudDocs/Science/Grill_Lab/Projects/aberration_mapping/imageJ_macros/zola_macro_cluster_params_passed.ijm'"
     },
     "execution_count": 42,
     "metadata": {},
     "output_type": "execute_result"
    }
   ],
   "source": [
    "local_fiji_macro_path = f'{local_base_path}{fiji_macro_dir}{fiji_macro}'\n",
    "local_fiji_macro_path"
   ]
  },
  {
   "cell_type": "code",
   "execution_count": 43,
   "id": "5bd121237fc25e01",
   "metadata": {
    "collapsed": false,
    "ExecuteTime": {
     "end_time": "2023-11-01T13:02:40.820944Z",
     "start_time": "2023-11-01T13:02:39.749198Z"
    }
   },
   "outputs": [
    {
     "data": {
      "text/plain": "'/Users/jwhite/Library/Mobile Documents/com~apple~CloudDocs/Science/Grill_Lab/Projects/aberration_mapping/data/andrea/2022_09_06_Beads_0p2_2ndfloorscope_test2/beads.tif'"
     },
     "execution_count": 43,
     "metadata": {},
     "output_type": "execute_result"
    }
   ],
   "source": [
    "# construct full path to image file and set save directory\n",
    "local_img_path  = f\"{local_base_path}{image_file}\"\n",
    "local_img_path"
   ]
  },
  {
   "cell_type": "code",
   "execution_count": 44,
   "id": "443e118d-92cb-42e8-acf1-def4e83ae6ae",
   "metadata": {
    "collapsed": false,
    "ExecuteTime": {
     "end_time": "2023-11-01T13:02:40.821043Z",
     "start_time": "2023-11-01T13:02:39.762426Z"
    }
   },
   "outputs": [
    {
     "data": {
      "text/plain": "'/Users/jwhite/Library/Mobile Documents/com~apple~CloudDocs/Science/Grill_Lab/Projects/aberration_mapping/data/andrea/2022_09_06_Beads_0p2_2ndfloorscope_test2/'"
     },
     "execution_count": 44,
     "metadata": {},
     "output_type": "execute_result"
    }
   ],
   "source": [
    "# file_path and save_dir variables for compatibility\n",
    "local_data_file_path = os.path.dirname(local_img_path) +'/'\n",
    "Local_save_dir  = local_data_file_path\n",
    "local_data_file_path"
   ]
  },
  {
   "cell_type": "code",
   "execution_count": 45,
   "id": "2976f34c-5322-4784-89f2-17f93d276b9e",
   "metadata": {
    "collapsed": false,
    "ExecuteTime": {
     "end_time": "2023-11-01T13:02:40.821146Z",
     "start_time": "2023-11-01T13:02:39.774653Z"
    }
   },
   "outputs": [
    {
     "data": {
      "text/plain": "'/Users/jwhite/Library/Mobile Documents/com~apple~CloudDocs/Science/Grill_Lab/Projects/aberration_mapping/scripts/bashscript_fiji3.sh'"
     },
     "execution_count": 45,
     "metadata": {},
     "output_type": "execute_result"
    }
   ],
   "source": [
    "local_zola_script_path = f\"{local_base_path}{zola_script_dir}{zola_script}\"\n",
    "local_zola_script_path"
   ]
  },
  {
   "cell_type": "code",
   "execution_count": 46,
   "id": "77ad74aa314e35c8",
   "metadata": {
    "collapsed": false,
    "ExecuteTime": {
     "end_time": "2023-11-01T13:02:40.821749Z",
     "start_time": "2023-11-01T13:02:39.785560Z"
    }
   },
   "outputs": [
    {
     "data": {
      "text/plain": "'/Users/jwhite/Library/Mobile Documents/com~apple~CloudDocs/Science/Grill_Lab/Projects/aberration_mapping/data/andrea/2022_09_06_Beads_0p2_2ndfloorscope_test2/patches_for_zola/'"
     },
     "execution_count": 46,
     "metadata": {},
     "output_type": "execute_result"
    }
   ],
   "source": [
    "local_patches_path= f'{local_data_file_path}patches_for_zola/'\n",
    "local_patches_path"
   ]
  },
  {
   "cell_type": "markdown",
   "id": "41ab3994fe0d372a",
   "metadata": {},
   "source": [
    "## Construct remote filepaths ##"
   ]
  },
  {
   "cell_type": "code",
   "execution_count": 47,
   "id": "ef00f302820aef88",
   "metadata": {
    "collapsed": false,
    "ExecuteTime": {
     "end_time": "2023-11-01T13:02:40.828447Z",
     "start_time": "2023-11-01T13:02:39.797707Z"
    }
   },
   "outputs": [
    {
     "data": {
      "text/plain": "'/home/jwhite/projects/aberration_mapping/'"
     },
     "execution_count": 47,
     "metadata": {},
     "output_type": "execute_result"
    }
   ],
   "source": [
    "remote_project_base_path"
   ]
  },
  {
   "cell_type": "code",
   "execution_count": 48,
   "id": "fe7421cf7bffea0b",
   "metadata": {
    "collapsed": false,
    "ExecuteTime": {
     "end_time": "2023-11-01T13:02:40.828562Z",
     "start_time": "2023-11-01T13:02:39.809428Z"
    }
   },
   "outputs": [
    {
     "data": {
      "text/plain": "'/home/jwhite/projects/aberration_mapping/data/andrea/2022_09_06_Beads_0p2_2ndfloorscope_test2/beads.tif'"
     },
     "execution_count": 48,
     "metadata": {},
     "output_type": "execute_result"
    }
   ],
   "source": [
    "remote_image_file_path = f\"{remote_project_base_path}{image_file}\"\n",
    "remote_image_file_path"
   ]
  },
  {
   "cell_type": "code",
   "execution_count": 49,
   "id": "adb04b3a125836c4",
   "metadata": {
    "collapsed": false,
    "ExecuteTime": {
     "end_time": "2023-11-01T13:02:40.828649Z",
     "start_time": "2023-11-01T13:02:39.820668Z"
    }
   },
   "outputs": [
    {
     "data": {
      "text/plain": "'/home/jwhite/projects/aberration_mapping/imageJ_macros/zola_macro_cluster_params_passed.ijm'"
     },
     "execution_count": 49,
     "metadata": {},
     "output_type": "execute_result"
    }
   ],
   "source": [
    "remote_fiji_macro_path = f'{remote_project_base_path}{fiji_macro_dir}{fiji_macro}'\n",
    "remote_fiji_macro_path"
   ]
  },
  {
   "cell_type": "code",
   "execution_count": 50,
   "id": "df23bcb0214be556",
   "metadata": {
    "collapsed": false,
    "ExecuteTime": {
     "end_time": "2023-11-01T13:02:40.829281Z",
     "start_time": "2023-11-01T13:02:39.832146Z"
    }
   },
   "outputs": [
    {
     "data": {
      "text/plain": "'/home/jwhite/projects/aberration_mapping/data/andrea/2022_09_06_Beads_0p2_2ndfloorscope_test2/beads.tif'"
     },
     "execution_count": 50,
     "metadata": {},
     "output_type": "execute_result"
    }
   ],
   "source": [
    "# construct full path to image file and set save directory\n",
    "remote_img_path  = f\"{remote_project_base_path}{image_file}\"\n",
    "remote_img_path"
   ]
  },
  {
   "cell_type": "code",
   "execution_count": 51,
   "id": "3faf9a47d37f15f6",
   "metadata": {
    "collapsed": false,
    "ExecuteTime": {
     "end_time": "2023-11-01T13:02:40.829368Z",
     "start_time": "2023-11-01T13:02:39.845082Z"
    }
   },
   "outputs": [
    {
     "data": {
      "text/plain": "'/home/jwhite/projects/aberration_mapping/data/andrea/2022_09_06_Beads_0p2_2ndfloorscope_test2/'"
     },
     "execution_count": 51,
     "metadata": {},
     "output_type": "execute_result"
    }
   ],
   "source": [
    "# file_path and save_dir variables for compatibility\n",
    "remote_data_file_path = os.path.dirname(remote_img_path) +'/'\n",
    "remote_save_dir  = remote_data_file_path\n",
    "remote_data_file_path"
   ]
  },
  {
   "cell_type": "code",
   "execution_count": 52,
   "id": "f21b28e3a19c0ae7",
   "metadata": {
    "collapsed": false,
    "ExecuteTime": {
     "end_time": "2023-11-01T13:02:40.829463Z",
     "start_time": "2023-11-01T13:02:39.857086Z"
    }
   },
   "outputs": [
    {
     "data": {
      "text/plain": "'/home/jwhite/projects/aberration_mapping/scripts/bashscript_fiji3.sh'"
     },
     "execution_count": 52,
     "metadata": {},
     "output_type": "execute_result"
    }
   ],
   "source": [
    "remote_zola_script_path = f\"{remote_project_base_path}{zola_script_dir}{zola_script}\"\n",
    "remote_zola_script_path"
   ]
  },
  {
   "cell_type": "code",
   "execution_count": 53,
   "id": "e431aac71210907e",
   "metadata": {
    "collapsed": false,
    "ExecuteTime": {
     "end_time": "2023-11-01T13:02:40.829566Z",
     "start_time": "2023-11-01T13:02:39.869352Z"
    }
   },
   "outputs": [
    {
     "data": {
      "text/plain": "'/home/jwhite/projects/aberration_mapping/data/andrea/2022_09_06_Beads_0p2_2ndfloorscope_test2/patches_for_zola/'"
     },
     "execution_count": 53,
     "metadata": {},
     "output_type": "execute_result"
    }
   ],
   "source": [
    "remote_patches_path = f'{remote_data_file_path}patches_for_zola/'\n",
    "remote_patches_path"
   ]
  },
  {
   "cell_type": "markdown",
   "id": "af18836652bbaafb",
   "metadata": {},
   "source": [
    "## Construct new parameters dictionary ##"
   ]
  },
  {
   "cell_type": "code",
   "execution_count": 54,
   "id": "3d0c450281e7b531",
   "metadata": {
    "collapsed": false,
    "ExecuteTime": {
     "end_time": "2023-11-01T13:02:40.829711Z",
     "start_time": "2023-11-01T13:02:39.883594Z"
    }
   },
   "outputs": [
    {
     "data": {
      "text/plain": "{'crop_shape': [40, 40, 40],\n 'unit': [0.1, 0.06, 0.06],\n 'abb_list': [3, 5, 6, 7, 8, 9, 10, 11, 12, 13, 14],\n 'FIJI_MACRO_PATH': '/home/jwhite/projects/aberration_mapping/imageJ_macros/zola_macro_cluster_params_passed.ijm',\n 'thresh_bck': 10,\n 'num_folders': 50,\n 'thresh_dist': 11.3,\n 'lam': 0.515}"
     },
     "execution_count": 54,
     "metadata": {},
     "output_type": "execute_result"
    }
   ],
   "source": [
    "# parameters\n",
    "new_parameters = {}\n",
    "\n",
    "new_parameters['crop_shape']      = crop_shape\n",
    "new_parameters['unit']            = unit\n",
    "new_parameters['abb_list']        = abb_list\n",
    "new_parameters['FIJI_MACRO_PATH'] = remote_fiji_macro_path\n",
    "new_parameters['thresh_bck']      = thresh_bck\n",
    "new_parameters['num_folders']     = num_folders\n",
    "new_parameters['thresh_dist']     = thresh_dist\n",
    "new_parameters['lam']             = lam\n",
    "new_parameters"
   ]
  },
  {
   "cell_type": "markdown",
   "source": [
    "## Process the beads stack to generate a csv file of X,Y bead locations"
   ],
   "metadata": {
    "collapsed": false
   },
   "id": "ae9f24e9a095dc82"
  },
  {
   "cell_type": "code",
   "execution_count": 87,
   "outputs": [
    {
     "ename": "NameError",
     "evalue": "name 'results_path' is not defined",
     "output_type": "error",
     "traceback": [
      "\u001B[0;31m---------------------------------------------------------------------------\u001B[0m",
      "\u001B[0;31mNameError\u001B[0m                                 Traceback (most recent call last)",
      "Cell \u001B[0;32mIn[87], line 25\u001B[0m\n\u001B[1;32m     22\u001B[0m regions \u001B[38;5;241m=\u001B[39m skimage\u001B[38;5;241m.\u001B[39mmeasure\u001B[38;5;241m.\u001B[39mregionprops(label_image)\n\u001B[1;32m     24\u001B[0m \u001B[38;5;66;03m# Extract x, y positions and save to CSV\u001B[39;00m\n\u001B[0;32m---> 25\u001B[0m \u001B[38;5;28;01mwith\u001B[39;00m \u001B[38;5;28mopen\u001B[39m(\u001B[43mresults_path\u001B[49m, \u001B[38;5;124m'\u001B[39m\u001B[38;5;124mw\u001B[39m\u001B[38;5;124m'\u001B[39m, newline\u001B[38;5;241m=\u001B[39m\u001B[38;5;124m'\u001B[39m\u001B[38;5;124m'\u001B[39m) \u001B[38;5;28;01mas\u001B[39;00m csvfile:\n\u001B[1;32m     26\u001B[0m     bead_writer \u001B[38;5;241m=\u001B[39m csv\u001B[38;5;241m.\u001B[39mwriter(csvfile)\n\u001B[1;32m     27\u001B[0m     bead_writer\u001B[38;5;241m.\u001B[39mwriterow([\u001B[38;5;124m'\u001B[39m\u001B[38;5;124mX\u001B[39m\u001B[38;5;124m'\u001B[39m, \u001B[38;5;124m'\u001B[39m\u001B[38;5;124mY\u001B[39m\u001B[38;5;124m'\u001B[39m])  \u001B[38;5;66;03m# Header\u001B[39;00m\n",
      "\u001B[0;31mNameError\u001B[0m: name 'results_path' is not defined"
     ]
    }
   ],
   "source": [
    "# Load the Z-stack\n",
    "stack = skimage.io.imread(image_file)\n",
    "\n",
    "# Create a maximum intensity projection\n",
    "mip = np.max(stack, axis=0)\n",
    "\n",
    "# If the image is not grayscale, convert it (though, confocal images typically are grayscale)\n",
    "if len(mip.shape) > 2:\n",
    "    mip = skimage.color.rgb2gray(mip)\n",
    "\n",
    "# Apply Gaussian filter to reduce noise\n",
    "smoothed_image = skimage.filters.gaussian(mip, sigma=1)\n",
    "\n",
    "# Threshold the image to create a binary image\n",
    "thresh = skimage.filters.threshold_otsu(smoothed_image)\n",
    "binary_image = smoothed_image > thresh\n",
    "\n",
    "# Label connected regions\n",
    "label_image = skimage.measure.label(binary_image)\n",
    "\n",
    "# Find the centroids of the regions\n",
    "regions = skimage.measure.regionprops(label_image)\n",
    "\n",
    "# Extract x, y positions and save to CSV\n",
    "with open(results_path, 'w', newline='') as csvfile:\n",
    "    bead_writer = csv.writer(csvfile)\n",
    "    bead_writer.writerow(['X', 'Y'])  # Header\n",
    "    for region in regions:\n",
    "        y, x = region.centroid\n",
    "        bead_writer.writerow([x, y])\n",
    "        \n",
    "# Visualization\n",
    "fig, ax = plt.subplots()\n",
    "ax.imshow(mip, cmap='gray')\n",
    "for region in regions:\n",
    "    y, x = region.centroid\n",
    "    ax.plot(x, y, 'r+')\n",
    "plt.show()\n"
   ],
   "metadata": {
    "collapsed": false,
    "ExecuteTime": {
     "end_time": "2023-11-01T14:45:21.887382Z",
     "start_time": "2023-11-01T14:45:21.565182Z"
    }
   },
   "id": "3c17a7072e68ebf2"
  },
  {
   "cell_type": "code",
   "execution_count": null,
   "outputs": [],
   "source": [],
   "metadata": {
    "collapsed": false
   },
   "id": "db92d5c4ca0318d5"
  },
  {
   "cell_type": "markdown",
   "source": [
    "## Make sure everything we need is on the remote"
   ],
   "metadata": {
    "collapsed": false
   },
   "id": "6bea7bf8-801b-4eab-bc7f-e27843908557"
  },
  {
   "cell_type": "code",
   "execution_count": 55,
   "id": "514e9977-180f-44ef-842b-96e558783d45",
   "metadata": {
    "collapsed": false,
    "ExecuteTime": {
     "end_time": "2023-11-01T13:02:40.830208Z",
     "start_time": "2023-11-01T13:02:39.897909Z"
    }
   },
   "outputs": [
    {
     "data": {
      "text/plain": "'/home/jwhite/projects/aberration_mapping/'"
     },
     "execution_count": 55,
     "metadata": {},
     "output_type": "execute_result"
    }
   ],
   "source": [
    "# local project space will be reconstructed relative to this directory on the remote\n",
    "remote_project_base_path"
   ]
  },
  {
   "cell_type": "code",
   "execution_count": 56,
   "id": "9ee25f27f729081d",
   "metadata": {
    "collapsed": false,
    "ExecuteTime": {
     "end_time": "2023-11-01T13:02:40.830355Z",
     "start_time": "2023-11-01T13:02:39.910619Z"
    }
   },
   "outputs": [
    {
     "data": {
      "text/plain": "'/Users/jwhite/Library/Mobile Documents/com~apple~CloudDocs/Science/Grill_Lab/Projects/aberration_mapping/'"
     },
     "execution_count": 56,
     "metadata": {},
     "output_type": "execute_result"
    }
   ],
   "source": [
    "# compare to local project space\n",
    "local_base_path"
   ]
  },
  {
   "cell_type": "code",
   "execution_count": 57,
   "id": "b981052571bab4be",
   "metadata": {
    "collapsed": false,
    "ExecuteTime": {
     "end_time": "2023-11-01T13:02:40.830421Z",
     "start_time": "2023-11-01T13:02:39.922809Z"
    }
   },
   "outputs": [],
   "source": [
    "# check that the project folder is the same on both systems\n",
    "local_project_check = local_base_path.split('/')[-2]\n",
    "remote_project_check = remote_project_base_path.split('/')[-2]\n",
    "assert local_project_check == remote_project_check,  \"Local and remote base project spaces are not the same.  Are you sure about this?\""
   ]
  },
  {
   "cell_type": "code",
   "execution_count": null,
   "outputs": [],
   "source": [
    "# copy local image and Results.csv to remote\n",
    "! scp -r \"{local_save_dir}\" \"{remote_save_dir}\""
   ],
   "metadata": {
    "collapsed": false
   },
   "id": "aaa3ad2753f77504"
  },
  {
   "cell_type": "code",
   "execution_count": 79,
   "id": "4f91202e55574771",
   "metadata": {
    "collapsed": false,
    "ExecuteTime": {
     "end_time": "2023-11-01T13:26:29.167166Z",
     "start_time": "2023-11-01T13:26:27.537537Z"
    }
   },
   "outputs": [
    {
     "name": "stdout",
     "output_type": "stream",
     "text": [
      "Using /home/jwhite/fiji/Fiji.app/ImageJ-linux64 on the remote system falcon\n",
      "\n",
      "Remote file \n",
      " /home/jwhite/projects/aberration_mapping/data/andrea/2022_09_06_Beads_0p2_2ndfloorscope_test2/beads.tif \n",
      "already exists. Nothing copied.\n",
      "Remote file \n",
      " /home/jwhite/projects/aberration_mapping/imageJ_macros/zola_macro_cluster_params_passed.ijm \n",
      "already exists. Nothing copied.\n",
      "Remote file \n",
      " /home/jwhite/projects/aberration_mapping/scripts/bashscript_fiji3.sh \n",
      "already exists. Nothing copied.\n"
     ]
    }
   ],
   "source": [
    "# copy local files over if they are not there already\n",
    "\n",
    "local_file_paths = [\n",
    "    local_img_path,\n",
    "    local_fiji_macro_path,\n",
    "    local_zola_script_path\n",
    "]\n",
    "\n",
    "remote_file_paths = [\n",
    "    remote_image_file_path,\n",
    "    remote_fiji_macro_path,\n",
    "    remote_zola_script_path\n",
    "]\n",
    "\n",
    "# open ssh connection\n",
    "ssh_client.connect(hostname, port, username, pkey=private_key)\n",
    "\n",
    "# Initialize SFTP client\n",
    "sftp_client = ssh_client.open_sftp()\n",
    "\n",
    "# check for ImageJ on remote\n",
    "\n",
    "try:\n",
    "    sftp_client.stat(remote_fiji_path)\n",
    "    print(f\"Using {remote_fiji_path} on the remote system {hostname}\")\n",
    "    print()\n",
    "except FileNotFoundError:\n",
    "    print(f\"Cannot find {remote_fiji_path} on {hostname}.  Perhaps it is not installed?\")\n",
    "    print()\n",
    "    \n",
    "    \n",
    "for local, remote in list(zip(local_file_paths, remote_file_paths)):\n",
    "    # 1. Check if the remote file exists\n",
    "    try:\n",
    "        sftp_client.stat(remote)\n",
    "        print(f\"Remote file \\n {remote} \\nalready exists. Nothing copied.\")\n",
    "    except FileNotFoundError:\n",
    "    # except:\n",
    "     # 2. If it does not exist, copy the local file to the remote location\n",
    "        sftp_client.put(local, remote)\n",
    "        print(f\"Local file {local} copied to {remote} on the remote server.\")\n",
    "    \n",
    "# Close the clients\n",
    "sftp_client.close()\n",
    "ssh_client.close()"
   ]
  },
  {
   "cell_type": "markdown",
   "id": "4b22f73b-087a-4526-a561-b1bfca3332d7",
   "metadata": {},
   "source": [
    "## Fiji application and ImageJ macros"
   ]
  },
  {
   "cell_type": "markdown",
   "id": "8be037ab-4830-4aa6-9d55-ad00342b3beb",
   "metadata": {},
   "source": [
    "### Check Fiji macros ###"
   ]
  },
  {
   "cell_type": "code",
   "execution_count": null,
   "id": "e117b267-ee00-4353-85d2-1c86aa75a132",
   "metadata": {
    "ExecuteTime": {
     "start_time": "2023-11-01T13:02:41.266760Z"
    }
   },
   "outputs": [],
   "source": [
    "# # check current macro directory\n",
    "# fiji_macro_dir"
   ]
  },
  {
   "cell_type": "code",
   "execution_count": null,
   "id": "e013121a-6a31-47a8-aab8-90e70e23e753",
   "metadata": {
    "ExecuteTime": {
     "start_time": "2023-11-01T13:02:41.268324Z"
    }
   },
   "outputs": [],
   "source": [
    "# fiji_macro_path"
   ]
  },
  {
   "cell_type": "code",
   "execution_count": null,
   "id": "493cda20-8d4f-4599-946d-267b6de51362",
   "metadata": {
    "ExecuteTime": {
     "start_time": "2023-11-01T13:02:41.269295Z"
    }
   },
   "outputs": [],
   "source": [
    "# # check available macros\n",
    "# ! ls -lga \"{fiji_macro_dir}\""
   ]
  },
  {
   "cell_type": "markdown",
   "id": "92354361-ca7a-4389-b9c9-3a76151f898b",
   "metadata": {},
   "source": [
    "## Check old parameters if they exist"
   ]
  },
  {
   "cell_type": "code",
   "execution_count": null,
   "id": "5871f898-f136-4ae7-95ab-7e886df43109",
   "metadata": {
    "ExecuteTime": {
     "start_time": "2023-11-01T13:02:41.270313Z"
    }
   },
   "outputs": [],
   "source": [
    "# # look at parameters from last processing job\n",
    "# old_params = setup_param_file(local_img_path)\n",
    "# type(old_params)\n",
    "# old_params"
   ]
  },
  {
   "cell_type": "markdown",
   "id": "2a0ad86c",
   "metadata": {},
   "source": [
    "## Load and show the image"
   ]
  },
  {
   "cell_type": "code",
   "execution_count": null,
   "id": "d0799af9",
   "metadata": {
    "ExecuteTime": {
     "start_time": "2023-11-01T13:02:41.271381Z"
    }
   },
   "outputs": [],
   "source": [
    "img = tifffile.imread(local_img_path)\n",
    "img_max = np.max(img,0)\n",
    "\n",
    "%matplotlib inline\n",
    "fig, axs = plt.subplots(1,1,figsize=(10,7))\n",
    "plt.imshow(img_max, clim=(np.percentile(img_max,0), np.percentile(img_max,99)))\n",
    "plt.title(\"Full image\");\n",
    "# None;"
   ]
  },
  {
   "cell_type": "markdown",
   "id": "d8639b25",
   "metadata": {},
   "source": [
    "## Load points from csv file and save patches"
   ]
  },
  {
   "cell_type": "code",
   "execution_count": null,
   "id": "3d3fba93-4618-4b9b-b0bf-0529b00dc530",
   "metadata": {
    "scrolled": true,
    "tags": [],
    "ExecuteTime": {
     "start_time": "2023-11-01T13:02:41.272518Z"
    }
   },
   "outputs": [],
   "source": [
    "# from main import *\n",
    "find_psf_crops(\n",
    "    local_img_path, \n",
    "    crop_shape     = crop_shape, \n",
    "    num_folders    = num_folders, \n",
    "    thresh_bck     = thresh_bck, \n",
    "    threshold_dist = thresh_dist,\n",
    "    unit           = unit,\n",
    "    show_ignored   = False, \n",
    "    show_accepted  = False, \n",
    "    headless       = False\n",
    ")"
   ]
  },
  {
   "cell_type": "markdown",
   "id": "d6882620",
   "metadata": {},
   "source": [
    "## Load patches"
   ]
  },
  {
   "cell_type": "code",
   "execution_count": null,
   "id": "138dbcd1",
   "metadata": {
    "ExecuteTime": {
     "start_time": "2023-11-01T13:02:41.273678Z"
    }
   },
   "outputs": [],
   "source": [
    "# load the patches\n",
    "patch_files = glob.glob(f\"{os.path.dirname(local_img_path)}/patches_for_zola/patches*/planes_10_*.tif\")\n",
    "print(f\"Found {len(patch_files)} patch files\")\n",
    "names = [os.path.splitext(os.path.basename(p))[0] for p in patch_files]\n",
    "crops = {n: tifffile.imread(p) for n, p in zip(names, patch_files)}\n",
    "pos = np.array([list(map(int, re.findall(r'\\d+', n))) for n in names])\n",
    "pos = pos[:,1:]"
   ]
  },
  {
   "cell_type": "code",
   "execution_count": null,
   "id": "3d33a5c5-35a3-4b1e-ba90-93db95145930",
   "metadata": {
    "ExecuteTime": {
     "start_time": "2023-11-01T13:02:41.274677Z"
    }
   },
   "outputs": [],
   "source": [
    "patch_files[:2]"
   ]
  },
  {
   "cell_type": "markdown",
   "id": "621fb3c2",
   "metadata": {},
   "source": [
    "## Show the beads"
   ]
  },
  {
   "cell_type": "code",
   "execution_count": null,
   "id": "ef432558",
   "metadata": {
    "tags": [],
    "ExecuteTime": {
     "start_time": "2023-11-01T13:02:41.275706Z"
    }
   },
   "outputs": [],
   "source": [
    "plt.imshow(img_max, clim=(np.percentile(img_max,3), np.percentile(img_max,99)))\n",
    "plt.plot(pos[:,2], pos[:,1],'r.');"
   ]
  },
  {
   "cell_type": "markdown",
   "id": "d0997ae49bddf0ea",
   "metadata": {},
   "source": [
    "## Show each bead"
   ]
  },
  {
   "cell_type": "code",
   "execution_count": null,
   "id": "2c4222c2",
   "metadata": {
    "collapsed": false,
    "ExecuteTime": {
     "start_time": "2023-11-01T13:02:41.276684Z"
    }
   },
   "outputs": [],
   "source": [
    "i=0\n",
    "for n,pat in crops.items():\n",
    "    zz,yy,xx = pat.shape\n",
    "    x_arr = np.arange(-1*yy//2, yy//2)\n",
    "    z_arr = np.arange(-1*zz//2, zz//2)\n",
    "    fig, axs = plt.subplots(1,2,figsize=(7,3))\n",
    "    print(n, np.max(pat) - np.median(pat))\n",
    "    # print(shannon_entropy(pat))\n",
    "    axs[0].imshow(np.max(pat,0))\n",
    "    im = axs[1].imshow(np.max(pat,1))\n",
    "    plt.colorbar(im)\n",
    "    plt.show()\n",
    "    print(pat.shape)\n",
    "    i=i+1\n",
    "    if i==50:\n",
    "        break\n",
    "None;"
   ]
  },
  {
   "cell_type": "markdown",
   "id": "76f97f5c1bf074ae",
   "metadata": {},
   "source": [
    "## Plot the signal-to-noise distribution"
   ]
  },
  {
   "cell_type": "code",
   "execution_count": null,
   "id": "d2fc5346",
   "metadata": {
    "ExecuteTime": {
     "start_time": "2023-11-01T13:02:41.277625Z"
    }
   },
   "outputs": [],
   "source": [
    "snr = []\n",
    "for key,val in crops.items():\n",
    "    val = min_max_norm(val)\n",
    "    snr.append(np.max(val) - np.median(val))\n",
    "snr = np.array(snr)\n",
    "plt.hist(snr.flatten());"
   ]
  },
  {
   "cell_type": "markdown",
   "id": "fde29100",
   "metadata": {
    "tags": []
   },
   "source": [
    "## Run Zola macro via bash command on the remote\n",
    "\n",
    "Runs via ssh on the remote cluster: CBG HPC."
   ]
  },
  {
   "cell_type": "markdown",
   "id": "96a4042bcb9c032c",
   "metadata": {},
   "source": [
    "Calls a macro to run an ImageJ plugin on gpu nodes of the HPC cluster in headless batch mode. \n",
    "\n",
    "Uses `https://github.com/imodpasteur/ZOLA-3D` plugin: put the file\n",
    "\n",
    "`ZOLA_-0.2.8-SNAPSHOT.jar`\n",
    "\n",
    "into the plugins directory.\n",
    "\n",
    "Uses the ImageJ executable stored in the variable 'remote_fiji_path'\n",
    "\n",
    "Feeds the paramters and file locations to the macro, so no need to modify the macro for each experiment.\n",
    "\n",
    "**Logistics**\n",
    "\n",
    "1. Copy the folder `patches_for_zola` to the remote using ssh (needs to be set up with ssh passkeys between local and remote (falcon). Remove the `patches_for_zola` folder from the remote before copying, if it exists. \n",
    "2. slurm calls a bashscript shell script to initialize processes on the cluster: <br> `sbatch {remote_project_path}/scripts/bashscript3.sh`\n",
    "2. In turn, the bash script sets up slurm jobs on gpu nodes of the cluster and calls ImageJ to run a macro stored in the variable `remote_fiji_macro_path` in headless batch mode.\n",
    "3. The ImageJ macro runs the \"Calibration: PSF modeling\" plugin from the with the parameters stored in the `imageJ_macro_parameters` variable.  The macro should **not** need to be modified for each experiment.\n",
    "4. The ImageJ plugin models the zola_raw data for each bead in the `zola_raw` folder\n",
    "5. Copy the `zola_raw` folder from the cluster to the local machine using sftp and paramiko.  \n",
    " "
   ]
  },
  {
   "cell_type": "code",
   "execution_count": null,
   "id": "757dd79f6a0297b0",
   "metadata": {
    "collapsed": false,
    "ExecuteTime": {
     "start_time": "2023-11-01T13:02:41.278616Z"
    }
   },
   "outputs": [],
   "source": [
    "# remove remote patches folder & files\n",
    "! ssh falcon \"rm -r {remote_patches_path}\""
   ]
  },
  {
   "cell_type": "code",
   "execution_count": null,
   "id": "2695deda2a7405f",
   "metadata": {
    "collapsed": false,
    "ExecuteTime": {
     "start_time": "2023-11-01T13:02:41.279547Z"
    }
   },
   "outputs": [],
   "source": [
    "# ! ls -lga \"{local_patches_path}\""
   ]
  },
  {
   "cell_type": "code",
   "execution_count": null,
   "id": "4613e3cda3f944a4",
   "metadata": {
    "collapsed": false,
    "ExecuteTime": {
     "start_time": "2023-11-01T13:02:41.280697Z"
    }
   },
   "outputs": [],
   "source": [
    "! scp -r \"$local_patches_path\" falcon:$remote_data_file_path"
   ]
  },
  {
   "cell_type": "markdown",
   "id": "96b5b745-2634-48bf-a2ff-087c3526b38e",
   "metadata": {},
   "source": [
    "### Troubleshooting / Testing ###"
   ]
  },
  {
   "cell_type": "markdown",
   "id": "bc80682e-d047-4925-8b70-fed927ca6f6f",
   "metadata": {
    "tags": []
   },
   "source": [
    "**Test Deb's ImageJ macro**\n",
    "\n",
    "Note: to use the \"run_on_gpu\" option for the zola Fiji plugin in this line of the macro:\n",
    "\n",
    "```python\n",
    "\n",
    "\trun(\" Calibration: PSF modeling\", \"run_on_gpu gain=1 pixel_size=100 z_step=50 bead_moving=[far -> close to objective] numerical_aperture=1.2 immersion_refractive=1.33 wavelength=0.515 patch_size=\"+wid+\" zernike_coefficient=[Zernike 15 coefs] iteration=100 result_calibration_file=\"+output);\n",
    "```\n",
    "\n",
    "you need to be logged into a gpu system on the cluster or implement the bashscript_fiji.sh (and derivatives) with sbatch on cluster (the script requests a gpu)."
   ]
  },
  {
   "cell_type": "code",
   "execution_count": null,
   "id": "141205d4693c6385",
   "metadata": {
    "collapsed": false,
    "ExecuteTime": {
     "start_time": "2023-11-01T13:02:41.281734Z"
    }
   },
   "outputs": [],
   "source": [
    "# i = 19\n",
    "# INPUT_DIR=f\"{remote_save_dir}patches_for_zola/patches_{i}\"\n",
    "# INPUT_DIR\n",
    "# remote_zola_script_path\n",
    "# # remote_imageJ_macro_parameter_string = shlex.quote(f\"{INPUT_DIR},{imageJ_macro_parameters}\")\n",
    "# # remote_imageJ_macro_parameter_string = f'param0,param1'\n",
    "# remote_imageJ_macro_parameter_string =  f\"{INPUT_DIR},{imageJ_macro_parameters}\"\n",
    "# remote_imageJ_macro_parameter_string\n",
    "# # print(remote_imageJ_macro_parameter_string)\n",
    "# print(f\"sbatch {remote_zola_script_path} '{remote_fiji_path} {remote_fiji_macro_path} {remote_imageJ_macro_parameter_string}'\")"
   ]
  },
  {
   "cell_type": "code",
   "execution_count": null,
   "id": "a4f18de165c25af0",
   "metadata": {
    "collapsed": false,
    "ExecuteTime": {
     "start_time": "2023-11-01T13:02:41.282581Z"
    }
   },
   "outputs": [],
   "source": [
    "# ! scp \"{local_fiji_macro_path}\" falcon:\"{remote_fiji_macro_path}\"\n",
    "# ! scp \"{local_zola_script_path}\" falcon:\"{remote_zola_script_path}\"\n",
    "# \n",
    "# # ! ssh falcon sbatch {remote_zola_script_path} '{remote_fiji_path} {remote_fiji_macro_path} {remote_imageJ_macro_parameter_string}'"
   ]
  },
  {
   "cell_type": "code",
   "execution_count": null,
   "id": "2765972f88b6a88f",
   "metadata": {
    "collapsed": false,
    "ExecuteTime": {
     "start_time": "2023-11-01T13:02:41.283331Z"
    }
   },
   "outputs": [],
   "source": [
    "# ! ssh falcon \"squeue -u jwhite\""
   ]
  },
  {
   "cell_type": "code",
   "execution_count": null,
   "id": "58ce21986c43084",
   "metadata": {
    "collapsed": false,
    "ExecuteTime": {
     "start_time": "2023-11-01T13:02:41.283984Z"
    }
   },
   "outputs": [],
   "source": [
    "# !ssh falcon \"scancel 48960858\""
   ]
  },
  {
   "cell_type": "code",
   "execution_count": null,
   "id": "33303cd2-df4a-4286-b76b-2dd96ca7090a",
   "metadata": {
    "ExecuteTime": {
     "start_time": "2023-11-01T13:02:41.284653Z"
    }
   },
   "outputs": [],
   "source": [
    "# be sure the std/ directory exists\n",
    "# !sbatch  -J {i} -e std/{i}.err -o std/{i}.out /home/jwhite/projects/aberration_mapping/scripts/bashscript_fiji.sh {FIJI_MACRO_PATH} {INPUT_DIR}"
   ]
  },
  {
   "cell_type": "markdown",
   "id": "7cddd618-a084-4628-a65e-67bf1dec97c5",
   "metadata": {
    "tags": []
   },
   "source": [
    "### Run Zola analysis on cluster ###"
   ]
  },
  {
   "cell_type": "code",
   "execution_count": null,
   "id": "4f4f6c4b49cdd019",
   "metadata": {
    "collapsed": false,
    "ExecuteTime": {
     "start_time": "2023-11-01T13:02:41.285272Z"
    }
   },
   "outputs": [],
   "source": [
    "# copy fiji macro and zola bashscript to remote\n",
    "! scp \"{local_fiji_macro_path}\" falcon:\"{remote_fiji_macro_path}\"\n",
    "! scp \"{local_zola_script_path}\" falcon:\"{remote_zola_script_path}\""
   ]
  },
  {
   "cell_type": "code",
   "execution_count": null,
   "id": "b763c468fc7f5987",
   "metadata": {
    "collapsed": false,
    "ExecuteTime": {
     "start_time": "2023-11-01T13:02:41.285939Z"
    }
   },
   "outputs": [],
   "source": [
    "# remove existing zola folder and create a new one\n",
    "remote_zola_raw_folder = f\"{remote_patches_path}zola_raw/\"\n",
    "local_zola_raw_folder = f\"{local_patches_path}zola_raw/\"\n",
    "# remote_zola_raw_folder\n",
    "! ssh falcon \"rm -r {remote_zola_raw_folder}; mkdir {remote_zola_raw_folder}\" "
   ]
  },
  {
   "cell_type": "code",
   "execution_count": null,
   "id": "3b2f0843b2c3e919",
   "metadata": {
    "collapsed": false,
    "ExecuteTime": {
     "start_time": "2023-11-01T13:02:41.286557Z"
    }
   },
   "outputs": [],
   "source": [
    "! ssh falcon \"ls -lga {remote_save_dir}\""
   ]
  },
  {
   "cell_type": "code",
   "execution_count": null,
   "id": "13044a22-59e5-45c2-8008-e689345d4c08",
   "metadata": {
    "scrolled": true,
    "tags": [],
    "ExecuteTime": {
     "start_time": "2023-11-01T13:02:41.287181Z"
    }
   },
   "outputs": [],
   "source": [
    "# Deleting the zola_raw folder and creating a new one\n",
    "# shutil.rmtree(f\"{save_dir}/patches_for_zola/zola_raw/\", ignore_errors=True)\n",
    "# os.makedirs(  f\"{save_dir}/patches_for_zola/zola_raw/\")\n",
    "# \n",
    "# INPUT_DIR=f\"{save_dir}/patches_for_zola/patches_{i}\""
   ]
  },
  {
   "cell_type": "code",
   "execution_count": null,
   "id": "37105736-d4a6-475b-90fd-3674293ad9e3",
   "metadata": {
    "scrolled": true,
    "tags": [],
    "ExecuteTime": {
     "start_time": "2023-11-01T13:02:41.287806Z"
    }
   },
   "outputs": [],
   "source": [
    "# not sure why Debayan had jobs split into two groups\n",
    "#\n",
    "# ***** be sure the std/ directory exists *****\n",
    "#\n",
    "# running zola on all the patches\n",
    "for i in range(35):\n",
    "# for i in [28]:\n",
    "# for i in range(1):\n",
    "# for i in range(0,num_folders):\n",
    "    INPUT_DIR=f\"{remote_save_dir}patches_for_zola/patches_{i}\"\n",
    "    print(INPUT_DIR)\n",
    "    remote_imageJ_macro_parameter_string =  f\"{INPUT_DIR},{imageJ_macro_parameters}\"\n",
    "    # !sbatch -J {i} -e std/{i}.err -o std/{i}.out {zola_script_path} {FIJI_MACRO_PATH} {INPUT_DIR}\n",
    "    ! ssh falcon sbatch {remote_zola_script_path} '{remote_fiji_path} {remote_fiji_macro_path} {remote_imageJ_macro_parameter_string}'    \n",
    "    print()\n",
    "#     break\n",
    "\n",
    "for i in range(35, num_folders):\n",
    "    INPUT_DIR=f\"{remote_save_dir}patches_for_zola/patches_{i}\"\n",
    "    print(INPUT_DIR)\n",
    "    remote_imageJ_macro_parameter_string =  f\"{INPUT_DIR},{imageJ_macro_parameters}\"\n",
    "    # print(zola_script_path)\n",
    "    # !sbatch -J {i} -e std/{i}.err -o std/{i}.out {zola_script_path} {FIJI_MACRO_PATH} {INPUT_DIR}\n",
    "    ! ssh falcon sbatch {remote_zola_script_path} '{remote_fiji_path} {remote_fiji_macro_path} {remote_imageJ_macro_parameter_string}'\n",
    "    print()"
   ]
  },
  {
   "cell_type": "code",
   "execution_count": null,
   "id": "e26d414a1b250715",
   "metadata": {
    "collapsed": false,
    "ExecuteTime": {
     "start_time": "2023-11-01T13:02:41.288417Z"
    }
   },
   "outputs": [],
   "source": [
    "! ssh falcon \"squeue -u jwhite\""
   ]
  },
  {
   "cell_type": "markdown",
   "id": "a4b20f6d-f971-44ac-9d34-08a080124cbd",
   "metadata": {},
   "source": [
    "## Write current parameters to file"
   ]
  },
  {
   "cell_type": "code",
   "execution_count": null,
   "id": "52cdbfc4864481e6",
   "metadata": {
    "collapsed": false,
    "ExecuteTime": {
     "start_time": "2023-11-01T13:02:41.289009Z"
    }
   },
   "outputs": [],
   "source": [
    "local_data_file_path"
   ]
  },
  {
   "cell_type": "code",
   "execution_count": null,
   "id": "8127ccd164b706c5",
   "metadata": {
    "ExecuteTime": {
     "start_time": "2023-11-01T13:02:41.289604Z"
    }
   },
   "outputs": [],
   "source": [
    "# Write to params file\n",
    "params = {\n",
    "    'crop_shape':crop_shape, \n",
    "    'unit':unit, \n",
    "    'abb_list': abb_list,  \n",
    "    'COMPUTERNAME' : socket.gethostname(),\n",
    "    'thresh_bck':thresh_bck, \n",
    "    'lam':lam, \n",
    "    'thresh_dist':thresh_dist,\n",
    "    'fiji_macro': fiji_macro,\n",
    "    'remote_project_base_path': f\"{remote_project_base_path}\",\n",
    "    'remote_fiji_path' : f\"{remote_fiji_path}\",\n",
    "    \"zola_script\" : f\"{zola_script}\",\n",
    "    \"image_file\": f\"{image_file}\",\n",
    "    \"remote_data_file_path\" : f\"{remote_data_file_path}\"\n",
    "}\n",
    "\n",
    "parameter_file = \"Parameters.json\"\n",
    "local_param_file_path = f'{local_data_file_path}{parameter_file}'\n",
    "remote_param_file_path = f\"{remote_data_file_path}{parameter_file}\"\n",
    "\n",
    "write_to_param_file(local_param_file_path, params)\n",
    "print(local_param_file_path)\n",
    "! scp '{local_param_file_path}' falcon:{remote_param_file_path}"
   ]
  },
  {
   "cell_type": "markdown",
   "id": "b06cedee2c55c8c4",
   "metadata": {},
   "source": [
    "## Monitor progress"
   ]
  },
  {
   "cell_type": "code",
   "execution_count": null,
   "id": "bbe48397eaff658c",
   "metadata": {
    "collapsed": false,
    "ExecuteTime": {
     "start_time": "2023-11-01T13:02:41.290229Z"
    }
   },
   "outputs": [],
   "source": [
    "l = !ssh falcon \"squeue -u jwhite\"\n",
    "l = l[1:]\n",
    "l"
   ]
  },
  {
   "cell_type": "code",
   "execution_count": null,
   "id": "92c8f871",
   "metadata": {
    "collapsed": false,
    "ExecuteTime": {
     "start_time": "2023-11-01T13:02:41.290834Z"
    }
   },
   "outputs": [],
   "source": [
    "# monitor progress....\n",
    "l = !ssh falcon \"squeue -u jwhite\"\n",
    "l = l[1:]\n",
    "n = len(l)\n",
    "while n > 0:\n",
    "    clear_output(wait=False)\n",
    "    l = !ssh falcon \"squeue -u jwhite\"\n",
    "    l = l[1:]\n",
    "    n=len(l)\n",
    "    display(f'{n} files to go')\n",
    "    sleep(1)"
   ]
  },
  {
   "cell_type": "markdown",
   "id": "e87d411249732b4d",
   "metadata": {},
   "source": [
    "## Sample Fiji macro"
   ]
  },
  {
   "cell_type": "markdown",
   "id": "df6bfdacd993c6cc",
   "metadata": {},
   "source": [
    "```\n",
    "/*\n",
    " * @Debayan MPI-CBG\n",
    " */\n",
    "\n",
    "file_path = getArgument();\n",
    "print(\"In macro\");\n",
    "print(file_path);\n",
    "processFolder(file_path); \n",
    "\n",
    "// function to scan folders/subfolders/files to find files with correct suffix\n",
    "function processFolder(input) {\n",
    "\tstart = getTime();\n",
    "\tprint(input)\n",
    "\tlist = getFileList(input);\n",
    "\tlist = Array.sort(list);\n",
    "\tprint(list.length)\n",
    "\tfor (i = 0; i < list.length; i++) {\n",
    "\t\tprint(list[i]);\n",
    "\t\tif(File.isDirectory(input + File.separator + list[i])){\n",
    "\t\t\tl = substring(list[i], 0, lengthOf(list[i])-1);\n",
    "\t\t\tprocessFolder(input + File.separator + l + File.separator);\n",
    "\t\t}\n",
    "\t\tif(endsWith(list[i], \".tif\")){\n",
    "\t\t\tprocessFile(input, list[i]);\n",
    "\t\t}\n",
    "\t}\n",
    "\tprint(\"Totoal Time: \"+(getTime()-start)/1000);   \n",
    "}\n",
    "\n",
    "function processFile(input, file) {\n",
    "\tprint(\"Processing: \"+ input + File.separator + file);\n",
    "\tif (indexOf(input, \"patches\") > 0) {\n",
    "\t\tif (!File.exists(File.getParent(input) + File.separator + \"zola_raw\")){\n",
    "\t\t\tFile.makeDirectory(File.getParent(input) + File.separator + \"zola_raw\"); \n",
    "\t\t}\n",
    "\toutput = File.getParent(input) + File.separator + \"zola_raw\"+ File.separator + substring(file, 0, indexOf(file, '.tif'))+'.json';\n",
    "\tprint(output);\n",
    "\n",
    "\topen(input + File.separator + file);\n",
    "\tsetSlice((nSlices+1)/2); \n",
    "\tmakePoint(getWidth()/2, getHeight()/2);\n",
    "\twid = 64;\n",
    "\trun(\" Calibration: PSF modeling\", \"run_on_gpu gain=1 pixel_size=200 z_step=50 bead_moving=[far -> close to objective] numerical_aperture=1.2 immersion_refractive=1.33 wavelength=0.515 patch_size=\"+wid+\" zernike_coefficient=[Zernike 15 coefs] iteration=20 result_calibration_file=\"+output);\n",
    "\trun(\"Close All\");\n",
    "\t}\n",
    "\telse{print(\"No patches\");\n",
    "\t}\n",
    "}\n",
    "\n",
    "```"
   ]
  },
  {
   "cell_type": "markdown",
   "id": "9b95548db936fda9",
   "metadata": {},
   "source": [
    "## Sample Zola bash scripts ##\n"
   ]
  },
  {
   "cell_type": "markdown",
   "id": "3c3ffee65259237e",
   "metadata": {},
   "source": [
    "\n",
    "**`/projects/project-dsaha/insitu_psf/bashscript_fiji.sh`**\n",
    "\n",
    "```\n",
    "#!/bin/bash\n",
    "#SBATCH -J \"One\"\n",
    "#SBATCH -t 8:00:00\n",
    "#SBATCH -n 1\n",
    "#SBATCH -N 1\n",
    "#SBATCH --partition=gpu\n",
    "#SBATCH --gres=gpu:1\n",
    "#SBATCH --mem 1000\n",
    "\n",
    "\n",
    "#export OPENBLAS_NUM_THREADS=4\n",
    "\n",
    "module unload cuda\n",
    "module load cuda/10.0.130\n",
    "#module load cuda/9.0.176\n",
    "\n",
    "echo \"Starting Fiji script\"\n",
    "\n",
    "\n",
    "FIJI_MACRO_FILEPATH=$1\n",
    "PATCHES_FOLDER_PATH=$2\n",
    "echo ${FIJI_MACRO_FILEPATH}\n",
    "echo ${PATCHES_FOLDER_PATH}\n",
    "echo \"Bashscript\"\n",
    "/projects/project-dsaha/Fiji_jobs/Fiji.app/ImageJ-linux64 --headless -batch ${FIJI_MACRO_FILEPATH} ${PATCHES_FOLDER_PATH}\n",
    "\n",
    "echo \"Finishing Fiji script\"\n",
    "\n",
    "```"
   ]
  },
  {
   "cell_type": "markdown",
   "id": "43cf6a7908fdff76",
   "metadata": {},
   "source": [
    "**`/home/jwhite/projects/aberration_mapping/scripts/bashscript_fiji.sh`**\n",
    "\n",
    "```\n",
    "#!/bin/bash\n",
    "#SBATCH -J \"One\"\n",
    "#SBATCH -t 8:00:00\n",
    "#SBATCH -n 1\n",
    "#SBATCH -N 1\n",
    "#SBATCH --partition=gpu\n",
    "#SBATCH --gres=gpu:1\n",
    "#SBATCH --mem 1000\n",
    "\n",
    "\n",
    "#export OPENBLAS_NUM_THREADS=4\n",
    "\n",
    "module unload cuda\n",
    "module load cuda/10.0.130\n",
    "#module load cuda/9.0.176\n",
    "\n",
    "echo \"Starting Fiji script\"\n",
    "\n",
    "\n",
    "FIJI_MACRO_FILEPATH=$1\n",
    "PATCHES_FOLDER_PATH=$2\n",
    "echo ${FIJI_MACRO_FILEPATH}\n",
    "echo ${PATCHES_FOLDER_PATH}\n",
    "echo \"Bashscript\"\n",
    "/home/jwhite/fiji/Fiji.app/ImageJ-linux64 --headless -batch ${FIJI_MACRO_FILEPATH} ${PATCHES_FOLDER_PATH}\n",
    "\n",
    "echo \"Finishing Fiji script\"\n",
    "\n",
    "\n",
    "```"
   ]
  },
  {
   "cell_type": "markdown",
   "id": "88ae3dcfcb19e241",
   "metadata": {},
   "source": [
    "**`/projects/project-dsaha/insitu_psf/bashscript_fiji_short.sh`**\n",
    "\n",
    "```\n",
    "#!/bin/bash\n",
    "#SBATCH -J \"One\"\n",
    "#SBATCH -t 1:00:00\n",
    "#SBATCH -n 1\n",
    "#SBATCH -N 1\n",
    "#SBATCH --partition=short\n",
    "#SBATCH --gres=gpu:1\n",
    "#SBATCH --mem 5000\n",
    "\n",
    "\n",
    "#export OPENBLAS_NUM_THREADS=4\n",
    "\n",
    "module unload cuda\n",
    "module load cuda/10.0.130\n",
    "#module load cuda/9.0.176\n",
    "\n",
    "echo \"Starting Fiji script\"\n",
    "\n",
    "\n",
    "FIJI_MACRO_FILEPATH=$1\n",
    "PATCHES_FOLDER_PATH=$2\n",
    "echo ${FIJI_MACRO_FILEPATH}\n",
    "echo ${PATCHES_FOLDER_PATH}\n",
    "echo \"Bashscript\"\n",
    "/projects/project-dsaha/Fiji_jobs/Fiji.app/ImageJ-linux64 --headless -batch ${FIJI_MACRO_FILEPATH} ${PATCHES_FOLDER_PATH}\n",
    "\n",
    "echo \"Finishing Fiji script\"\n",
    "\n",
    "\n",
    "```"
   ]
  },
  {
   "cell_type": "markdown",
   "id": "d4f1cdb1-ad5d-4406-92e2-7b59a3ae5ffa",
   "metadata": {},
   "source": [
    "# End #"
   ]
  },
  {
   "cell_type": "raw",
   "id": "f1d1dcdc",
   "metadata": {},
   "source": [
    "!scancel 43774917      "
   ]
  },
  {
   "cell_type": "raw",
   "id": "7e161e4e",
   "metadata": {},
   "source": [
    "for i in range(43778722, 43778720):\n",
    "    !scancel {i}"
   ]
  }
 ],
 "metadata": {
  "kernelspec": {
   "display_name": "Python 3 (ipykernel)",
   "language": "python",
   "name": "python3"
  },
  "language_info": {
   "codemirror_mode": {
    "name": "ipython",
    "version": 3
   },
   "file_extension": ".py",
   "mimetype": "text/x-python",
   "name": "python",
   "nbconvert_exporter": "python",
   "pygments_lexer": "ipython3",
   "version": "3.9.15"
  }
 },
 "nbformat": 4,
 "nbformat_minor": 5
}
