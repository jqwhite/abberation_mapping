{
 "cells": [
  {
   "cell_type": "markdown",
   "id": "4ed2fb3f-c7f4-4307-9b44-9d82406e0acc",
   "metadata": {},
   "source": [
    "# Abberation mapping workflow 1: Process patches #\n",
    "\n",
    "*25 Jan 2023*\n",
    "\n",
    "*11 September 2023*\n",
    "\n",
    "*27 September 2023*\n",
    "\n",
    "Originally by Debayan Saha.  Jamie White modified Debayan's notebooks. \n",
    "\n",
    "Updating for Jamie's environment on the cluster.\n",
    "\n",
    "Documenting installation / file locations.\n",
    "\n",
    "Updating to run notebooks locally on a Mac / PC.  The psf modeling is super compute intensive, so it needs to be done on the cluster. Strategy: execute cluster commands via ssh."
   ]
  },
  {
   "cell_type": "markdown",
   "id": "f114ce9d-7fc1-49b0-bc30-1a3d695bda96",
   "metadata": {},
   "source": [
    "## Environment paths ##\n",
    "\n",
    "Not necessary in local non-cuda environment; transfer these to script executed via ssh."
   ]
  },
  {
   "cell_type": "code",
   "execution_count": 1,
   "id": "e9fb4d6c",
   "metadata": {
    "ExecuteTime": {
     "end_time": "2023-10-04T10:06:37.942662Z",
     "start_time": "2023-10-04T10:06:37.725310Z"
    }
   },
   "outputs": [],
   "source": [
    "# # not necessary for running locally on a mac  \n",
    "# %env PATH=/sw/ap|ps/python3/3.7.4/bin:/sw/apps/jupyter-tensorboard/0.1.6/bin:/sw/apps/hdf5/1.8.16/bin:/sw/apps/cuda/10.0.130/bin:/sw/bin:/usr/lib64/qt-3.3/bin:/sbin:/bin:/usr/sbin:/usr/bin\n",
    "# %env LD_LIBRARY_PATH=/sw/apps/python3/3.7.4/lib:/sw/apps/hdf5/1.8.16/lib:/sw/apps/cuda/10.0.130/lib64:/sw/apps/cuda/10.0.130/lib:/sw/lib"
   ]
  },
  {
   "cell_type": "code",
   "execution_count": 2,
   "id": "f31f67d0-2c59-431f-80c6-aeebb65d32b6",
   "metadata": {
    "ExecuteTime": {
     "end_time": "2023-10-04T10:06:37.942808Z",
     "start_time": "2023-10-04T10:06:37.728377Z"
    }
   },
   "outputs": [],
   "source": [
    "# ! env"
   ]
  },
  {
   "cell_type": "markdown",
   "id": "581025a1-8f50-4772-bf17-3fdba8900087",
   "metadata": {},
   "source": [
    "## Load packages ##"
   ]
  },
  {
   "cell_type": "code",
   "execution_count": 3,
   "id": "35cccb16",
   "metadata": {
    "scrolled": true,
    "tags": [],
    "ExecuteTime": {
     "end_time": "2023-10-04T10:06:38.491829Z",
     "start_time": "2023-10-04T10:06:37.731868Z"
    }
   },
   "outputs": [],
   "source": [
    "import numpy as np\n",
    "import matplotlib.pyplot as plt\n",
    "import sys\n",
    "sys.path.append(\".\")\n",
    "# sys.path.append('/home/dsaha/.local/lib/python3.7/site-packages/')\n",
    "from main import *\n",
    "import os\n",
    "import paramiko\n",
    "import tifffile\n",
    "import shutil\n",
    "import warnings\n",
    "import tqdm\n",
    "from IPython.display import display, clear_output\n",
    "from time import sleep"
   ]
  },
  {
   "cell_type": "code",
   "execution_count": 4,
   "outputs": [],
   "source": [
    "warnings.filterwarnings(action='once')\n",
    "%load_ext autoreload\n",
    "%autoreload 2"
   ],
   "metadata": {
    "collapsed": false,
    "ExecuteTime": {
     "end_time": "2023-10-04T10:06:38.491948Z",
     "start_time": "2023-10-04T10:06:38.251154Z"
    }
   },
   "id": "2d6e073efc1abfbf"
  },
  {
   "cell_type": "markdown",
   "id": "8c764cee-850c-40b2-8606-1653a5ed1e8f",
   "metadata": {},
   "source": [
    "## Utility functions ##"
   ]
  },
  {
   "cell_type": "code",
   "execution_count": 5,
   "id": "57ed2b3f-6222-429f-9ec6-3c77b78be11a",
   "metadata": {
    "ExecuteTime": {
     "end_time": "2023-10-04T10:06:38.491999Z",
     "start_time": "2023-10-04T10:06:38.274658Z"
    }
   },
   "outputs": [],
   "source": [
    "def pretty_print_dict(d):\n",
    "    print(json.dumps(d, indent=4))\n",
    "    \n",
    "def min_max_norm(arr):\n",
    "    return (arr - np.min(arr))/(np.max(arr) - np.min(arr))"
   ]
  },
  {
   "cell_type": "markdown",
   "source": [
    "___"
   ],
   "metadata": {
    "collapsed": false
   },
   "id": "166d768eea547f55"
  },
  {
   "cell_type": "markdown",
   "id": "6e3ad0e07ebd6f7b",
   "metadata": {},
   "source": [
    "## Files and parameters ##"
   ]
  },
  {
   "cell_type": "markdown",
   "source": [
    "The notebook assumes everything is set locally and tries to reproduce the local project space on the remote `falcon` using the `paramiko` python package."
   ],
   "metadata": {
    "collapsed": false
   },
   "id": "dfc51b61842e15e8"
  },
  {
   "cell_type": "markdown",
   "source": [
    "### Files ###"
   ],
   "metadata": {
    "collapsed": false
   },
   "id": "c12c432002d25f42"
  },
  {
   "cell_type": "code",
   "execution_count": 16,
   "outputs": [],
   "source": [
    "# relative path to bead image stack\n",
    "image_file = \"data/andrea/2022_09_06_Beads_0p2_2ndfloorscope_test/beads.tif\""
   ],
   "metadata": {
    "collapsed": false,
    "ExecuteTime": {
     "end_time": "2023-10-04T10:08:37.439602Z",
     "start_time": "2023-10-04T10:08:37.411881Z"
    }
   },
   "id": "5ec2e891280df6dd"
  },
  {
   "cell_type": "code",
   "execution_count": 17,
   "outputs": [],
   "source": [
    "# fiji_path       = \"/Applications/ImageJ/ImageJ.app/Contents/MacOS/ImageJ\"      # absolute path to ImageJ/Fiji executable\n",
    "# fiji_path = \"/Applications/ImageJ.app/Contents/MacOS/ImageJ\"\n",
    "# fiji_command = \"/usr/bin/java -jar /Applications/ImageJ.app/Contents/Java/ij.jar -batch\"\n",
    "remote_fiji_path = '/home/jwhite/fiji/Fiji.app/ImageJ-linux64' # location on cluster\n",
    "remote_project_base_path = '/home/jwhite/projects/aberration_mapping/'\n",
    "# relative path to fiji macros\n",
    "fiji_macro_dir  =  \"imageJ_macros/\" \n",
    "# select proper macro\n",
    "fiji_macro      = 'zola_macro_cluster_1p2_z_50_2ndfloor.ijm'# path to custom macros for running on cluster"
   ],
   "metadata": {
    "collapsed": false,
    "ExecuteTime": {
     "end_time": "2023-10-04T10:08:38.154862Z",
     "start_time": "2023-10-04T10:08:38.121837Z"
    }
   },
   "id": "a2d068cf9a93b632"
  },
  {
   "cell_type": "code",
   "execution_count": 18,
   "outputs": [],
   "source": [
    "zola_script_dir = 'scripts/'\n",
    "zola_script     = 'bashscript_fiji.sh'"
   ],
   "metadata": {
    "collapsed": false,
    "ExecuteTime": {
     "end_time": "2023-10-04T10:08:38.879336Z",
     "start_time": "2023-10-04T10:08:38.823182Z"
    }
   },
   "id": "f5a881b37a74a06c"
  },
  {
   "cell_type": "markdown",
   "source": [
    "### Parameters ###"
   ],
   "metadata": {
    "collapsed": false
   },
   "id": "9883afb4a633c2bf"
  },
  {
   "cell_type": "code",
   "execution_count": 19,
   "outputs": [],
   "source": [
    "# set new parameters\n",
    "crop_shape      = [40, 40, 40]\n",
    "unit            = [0.05, 0.2, 0.2]\n",
    "abb_list        = [3, 5, 6, 7, 8, 9, 10, 11, 12, 13, 14]\n",
    "thresh_bck      = 10\n",
    "num_folders     = 50\n",
    "thresh_dist     = 11.29999999999999999999999999999999999\n",
    "lam             = 0.515"
   ],
   "metadata": {
    "collapsed": false,
    "ExecuteTime": {
     "end_time": "2023-10-04T10:08:40.259151Z",
     "start_time": "2023-10-04T10:08:40.207423Z"
    }
   },
   "id": "453d3d230d1124"
  },
  {
   "cell_type": "markdown",
   "source": [
    "## Construct local filepaths ##\n",
    "\n",
    "From current working directory. "
   ],
   "metadata": {
    "collapsed": false
   },
   "id": "205e4ada"
  },
  {
   "cell_type": "code",
   "execution_count": 20,
   "outputs": [
    {
     "data": {
      "text/plain": "'/Users/jwhite/Library/Mobile Documents/com~apple~CloudDocs/Science/Grill_Lab/Projects/aberration_mapping/'"
     },
     "execution_count": 20,
     "metadata": {},
     "output_type": "execute_result"
    }
   ],
   "source": [
    "local_base_path = os.getcwd()+'/' # everything relative to the notebook directory\n",
    "local_base_path"
   ],
   "metadata": {
    "collapsed": false,
    "ExecuteTime": {
     "end_time": "2023-10-04T10:08:42.719597Z",
     "start_time": "2023-10-04T10:08:42.682404Z"
    }
   },
   "id": "fa3314002ebbf8c0"
  },
  {
   "cell_type": "code",
   "execution_count": 21,
   "outputs": [
    {
     "data": {
      "text/plain": "'/Users/jwhite/Library/Mobile Documents/com~apple~CloudDocs/Science/Grill_Lab/Projects/aberration_mapping/imageJ_macros/zola_macro_cluster_1p2_z_50_2ndfloor.ijm'"
     },
     "execution_count": 21,
     "metadata": {},
     "output_type": "execute_result"
    }
   ],
   "source": [
    "local_fiji_macro_path = f'{local_base_path}{fiji_macro_dir}{fiji_macro}'\n",
    "local_fiji_macro_path"
   ],
   "metadata": {
    "collapsed": false,
    "ExecuteTime": {
     "end_time": "2023-10-04T10:08:45.442953Z",
     "start_time": "2023-10-04T10:08:45.410211Z"
    }
   },
   "id": "279565008b5deac5"
  },
  {
   "cell_type": "code",
   "execution_count": 22,
   "outputs": [
    {
     "data": {
      "text/plain": "'/Users/jwhite/Library/Mobile Documents/com~apple~CloudDocs/Science/Grill_Lab/Projects/aberration_mapping/data/andrea/2022_09_06_Beads_0p2_2ndfloorscope_test/beads.tif'"
     },
     "execution_count": 22,
     "metadata": {},
     "output_type": "execute_result"
    }
   ],
   "source": [
    "# construct full path to image file and set save directory\n",
    "local_img_path  = f\"{local_base_path}{image_file}\"\n",
    "local_img_path"
   ],
   "metadata": {
    "collapsed": false,
    "ExecuteTime": {
     "end_time": "2023-10-04T10:08:47.976661Z",
     "start_time": "2023-10-04T10:08:47.940907Z"
    }
   },
   "id": "5bd121237fc25e01"
  },
  {
   "cell_type": "code",
   "execution_count": 23,
   "outputs": [
    {
     "data": {
      "text/plain": "'/Users/jwhite/Library/Mobile Documents/com~apple~CloudDocs/Science/Grill_Lab/Projects/aberration_mapping/data/andrea/2022_09_06_Beads_0p2_2ndfloorscope_test/'"
     },
     "execution_count": 23,
     "metadata": {},
     "output_type": "execute_result"
    }
   ],
   "source": [
    "# file_path and save_dir variables for compatibility\n",
    "data_file_path = os.path.dirname(local_img_path) +'/'\n",
    "save_dir  = data_file_path\n",
    "data_file_path"
   ],
   "metadata": {
    "collapsed": false,
    "ExecuteTime": {
     "end_time": "2023-10-04T10:08:49.288642Z",
     "start_time": "2023-10-04T10:08:49.236172Z"
    }
   },
   "id": "443e118d-92cb-42e8-acf1-def4e83ae6ae"
  },
  {
   "cell_type": "code",
   "execution_count": 36,
   "outputs": [
    {
     "data": {
      "text/plain": "'/Users/jwhite/Library/Mobile Documents/com~apple~CloudDocs/Science/Grill_Lab/Projects/aberration_mapping/scripts/bashscript_fiji.sh'"
     },
     "execution_count": 36,
     "metadata": {},
     "output_type": "execute_result"
    }
   ],
   "source": [
    "local_zola_script_path = f\"{local_base_path}{zola_script_dir}{zola_script}\"\n",
    "local_zola_script_path"
   ],
   "metadata": {
    "collapsed": false,
    "ExecuteTime": {
     "end_time": "2023-10-04T10:12:24.929006Z",
     "start_time": "2023-10-04T10:12:24.880336Z"
    }
   },
   "id": "2976f34c-5322-4784-89f2-17f93d276b9e"
  },
  {
   "cell_type": "markdown",
   "source": [
    "## Construct remote filepaths ##"
   ],
   "metadata": {
    "collapsed": false
   },
   "id": "41ab3994fe0d372a"
  },
  {
   "cell_type": "code",
   "execution_count": 29,
   "outputs": [
    {
     "data": {
      "text/plain": "'/home/jwhite/projects/aberration_mapping/'"
     },
     "execution_count": 29,
     "metadata": {},
     "output_type": "execute_result"
    }
   ],
   "source": [
    "remote_project_base_path"
   ],
   "metadata": {
    "collapsed": false,
    "ExecuteTime": {
     "end_time": "2023-10-04T10:11:08.912772Z",
     "start_time": "2023-10-04T10:11:08.884334Z"
    }
   },
   "id": "ef00f302820aef88"
  },
  {
   "cell_type": "code",
   "execution_count": 30,
   "outputs": [
    {
     "data": {
      "text/plain": "'/home/jwhite/projects/aberration_mapping/data/andrea/2022_09_06_Beads_0p2_2ndfloorscope_test/beads.tif'"
     },
     "execution_count": 30,
     "metadata": {},
     "output_type": "execute_result"
    }
   ],
   "source": [
    "remote_image_file_path = f\"{remote_project_base_path}{image_file}\"\n",
    "remote_image_file_path"
   ],
   "metadata": {
    "collapsed": false,
    "ExecuteTime": {
     "end_time": "2023-10-04T10:11:09.732589Z",
     "start_time": "2023-10-04T10:11:09.684457Z"
    }
   },
   "id": "fe7421cf7bffea0b"
  },
  {
   "cell_type": "code",
   "execution_count": 32,
   "outputs": [
    {
     "data": {
      "text/plain": "'/home/jwhite/projects/aberration_mapping/imageJ_macros/zola_macro_cluster_1p2_z_50_2ndfloor.ijm'"
     },
     "execution_count": 32,
     "metadata": {},
     "output_type": "execute_result"
    }
   ],
   "source": [
    "remote_fiji_macro_path = f'{remote_project_base_path}{fiji_macro_dir}{fiji_macro}'\n",
    "remote_fiji_macro_path"
   ],
   "metadata": {
    "collapsed": false,
    "ExecuteTime": {
     "end_time": "2023-10-04T10:11:21.921962Z",
     "start_time": "2023-10-04T10:11:21.859100Z"
    }
   },
   "id": "adb04b3a125836c4"
  },
  {
   "cell_type": "code",
   "execution_count": 33,
   "outputs": [
    {
     "data": {
      "text/plain": "'/home/jwhite/projects/aberration_mapping/data/andrea/2022_09_06_Beads_0p2_2ndfloorscope_test/beads.tif'"
     },
     "execution_count": 33,
     "metadata": {},
     "output_type": "execute_result"
    }
   ],
   "source": [
    "# construct full path to image file and set save directory\n",
    "remote_img_path  = f\"{remote_project_base_path}{image_file}\"\n",
    "remote_img_path"
   ],
   "metadata": {
    "collapsed": false,
    "ExecuteTime": {
     "end_time": "2023-10-04T10:11:25.755845Z",
     "start_time": "2023-10-04T10:11:25.705167Z"
    }
   },
   "id": "df23bcb0214be556"
  },
  {
   "cell_type": "code",
   "execution_count": 34,
   "outputs": [
    {
     "data": {
      "text/plain": "'/home/jwhite/projects/aberration_mapping/data/andrea/2022_09_06_Beads_0p2_2ndfloorscope_test/'"
     },
     "execution_count": 34,
     "metadata": {},
     "output_type": "execute_result"
    }
   ],
   "source": [
    "# file_path and save_dir variables for compatibility\n",
    "data_file_path = os.path.dirname(remote_img_path) +'/'\n",
    "save_dir  = data_file_path\n",
    "data_file_path"
   ],
   "metadata": {
    "collapsed": false,
    "ExecuteTime": {
     "end_time": "2023-10-04T10:11:29.530340Z",
     "start_time": "2023-10-04T10:11:29.498776Z"
    }
   },
   "id": "3faf9a47d37f15f6"
  },
  {
   "cell_type": "code",
   "execution_count": 37,
   "outputs": [
    {
     "data": {
      "text/plain": "'/home/jwhite/projects/aberration_mapping/scripts/bashscript_fiji.sh'"
     },
     "execution_count": 37,
     "metadata": {},
     "output_type": "execute_result"
    }
   ],
   "source": [
    "remote_zola_script_path = f\"{remote_project_base_path}{zola_script_dir}{zola_script}\"\n",
    "remote_zola_script_path"
   ],
   "metadata": {
    "collapsed": false,
    "ExecuteTime": {
     "end_time": "2023-10-04T10:12:44.892768Z",
     "start_time": "2023-10-04T10:12:44.855569Z"
    }
   },
   "id": "f21b28e3a19c0ae7"
  },
  {
   "cell_type": "markdown",
   "source": [
    "## Construct new parameters dictionary ##"
   ],
   "metadata": {
    "collapsed": false
   },
   "id": "af18836652bbaafb"
  },
  {
   "cell_type": "code",
   "execution_count": 38,
   "outputs": [
    {
     "ename": "NameError",
     "evalue": "name 'fiji_macro_path' is not defined",
     "output_type": "error",
     "traceback": [
      "\u001B[0;31m---------------------------------------------------------------------------\u001B[0m",
      "\u001B[0;31mNameError\u001B[0m                                 Traceback (most recent call last)",
      "Cell \u001B[0;32mIn[38], line 7\u001B[0m\n\u001B[1;32m      5\u001B[0m new_parameters[\u001B[38;5;124m'\u001B[39m\u001B[38;5;124munit\u001B[39m\u001B[38;5;124m'\u001B[39m]            \u001B[38;5;241m=\u001B[39m unit\n\u001B[1;32m      6\u001B[0m new_parameters[\u001B[38;5;124m'\u001B[39m\u001B[38;5;124mabb_list\u001B[39m\u001B[38;5;124m'\u001B[39m]        \u001B[38;5;241m=\u001B[39m abb_list\n\u001B[0;32m----> 7\u001B[0m new_parameters[\u001B[38;5;124m'\u001B[39m\u001B[38;5;124mFIJI_MACRO_PATH\u001B[39m\u001B[38;5;124m'\u001B[39m] \u001B[38;5;241m=\u001B[39m \u001B[43mfiji_macro_path\u001B[49m\n\u001B[1;32m      8\u001B[0m new_parameters[\u001B[38;5;124m'\u001B[39m\u001B[38;5;124mthresh_bck\u001B[39m\u001B[38;5;124m'\u001B[39m]      \u001B[38;5;241m=\u001B[39m thresh_bck\n\u001B[1;32m      9\u001B[0m new_parameters[\u001B[38;5;124m'\u001B[39m\u001B[38;5;124mnum_folders\u001B[39m\u001B[38;5;124m'\u001B[39m]     \u001B[38;5;241m=\u001B[39m num_folders\n",
      "\u001B[0;31mNameError\u001B[0m: name 'fiji_macro_path' is not defined"
     ]
    }
   ],
   "source": [
    "# parameters\n",
    "new_parameters = {}\n",
    "\n",
    "new_parameters['crop_shape']      = crop_shape\n",
    "new_parameters['unit']            = unit\n",
    "new_parameters['abb_list']        = abb_list\n",
    "new_parameters['FIJI_MACRO_PATH'] = fiji_macro_path\n",
    "new_parameters['thresh_bck']      = thresh_bck\n",
    "new_parameters['num_folders']     = num_folders\n",
    "new_parameters['thresh_dist']     = thresh_dist\n",
    "new_parameters['lam']             = lam\n",
    "new_parameters"
   ],
   "metadata": {
    "collapsed": false,
    "ExecuteTime": {
     "end_time": "2023-10-04T10:12:51.438804Z",
     "start_time": "2023-10-04T10:12:51.402417Z"
    }
   },
   "id": "3d0c450281e7b531"
  },
  {
   "cell_type": "markdown",
   "source": [
    "## Make sure everything we need is on the remote"
   ],
   "metadata": {
    "collapsed": false
   },
   "id": "6bea7bf8-801b-4eab-bc7f-e27843908557"
  },
  {
   "cell_type": "code",
   "execution_count": 48,
   "outputs": [
    {
     "data": {
      "text/plain": "'/home/jwhite/projects/aberration_mapping/'"
     },
     "execution_count": 48,
     "metadata": {},
     "output_type": "execute_result"
    }
   ],
   "source": [
    "# local project space will be reconstructed relative to this directory on the remote\n",
    "remote_project_base_path"
   ],
   "metadata": {
    "collapsed": false,
    "ExecuteTime": {
     "end_time": "2023-10-04T10:16:27.994152Z",
     "start_time": "2023-10-04T10:16:27.937259Z"
    }
   },
   "id": "514e9977-180f-44ef-842b-96e558783d45"
  },
  {
   "cell_type": "code",
   "execution_count": 50,
   "outputs": [
    {
     "data": {
      "text/plain": "'/Users/jwhite/Library/Mobile Documents/com~apple~CloudDocs/Science/Grill_Lab/Projects/aberration_mapping/'"
     },
     "execution_count": 50,
     "metadata": {},
     "output_type": "execute_result"
    }
   ],
   "source": [
    "# compare to local project space\n",
    "local_base_path"
   ],
   "metadata": {
    "collapsed": false,
    "ExecuteTime": {
     "end_time": "2023-10-04T10:18:32.552166Z",
     "start_time": "2023-10-04T10:18:32.523193Z"
    }
   },
   "id": "9ee25f27f729081d"
  },
  {
   "cell_type": "code",
   "execution_count": null,
   "outputs": [],
   "source": [
    "# check that the project folder is the same on both systems\n",
    "local_project_check = "
   ],
   "metadata": {
    "collapsed": false
   },
   "id": "b981052571bab4be"
  },
  {
   "cell_type": "markdown",
   "source": [
    "ssh remote_host \"ls > /tmp/file_on_remote_host.txt\""
   ],
   "metadata": {
    "collapsed": false
   },
   "id": "dc7a67de3ff56bfe"
  },
  {
   "cell_type": "code",
   "execution_count": 41,
   "id": "b4184d3b-d9bc-4af1-8b88-fb98bab34ad8",
   "metadata": {
    "ExecuteTime": {
     "end_time": "2023-10-04T10:13:26.993163Z",
     "start_time": "2023-10-04T10:13:25.623053Z"
    }
   },
   "outputs": [
    {
     "name": "stdout",
     "output_type": "stream",
     "text": [
      "total 324156\r\n",
      "drwxr-sr-x  9 project-jwhite      4096 Sep 19 16:00 .\r\n",
      "drwxrwsr-x 12 project-jwhite      4096 Sep 19 11:48 ..\r\n",
      "drwxr-sr-x  2 project-jwhite      4096 Sep 19 16:00 abb_maps\r\n",
      "-rw-r--r--  1 project-jwhite      2396 Sep 19 16:00 accepted_points_in_image.png\r\n",
      "-rw-r--r--  1 project-jwhite     51343 Sep 19 15:59 amplitude_distribution.png\r\n",
      "-rwxr--r--  1 project-jwhite 321626563 Sep 19 11:48 beads.tif\r\n",
      "-rwxr--r--  1 project-jwhite      4096 Sep 19 11:50 ._.DS_Store\r\n",
      "-rwxr--r--  1 project-jwhite      6148 Sep 20 10:49 .DS_Store\r\n",
      "-rw-r--r--  1 project-jwhite  10072554 Sep 19 16:00 label_map.tif\r\n",
      "drwxr-sr-x  2 project-jwhite      4096 Sep 19 16:00 measurements\r\n",
      "drwxr-sr-x  2 project-jwhite      4096 Sep 19 16:00 med_measurement\r\n",
      "-rw-r--r--  1 project-jwhite       317 Sep 19 11:48 params.json\r\n",
      "drwxr-sr-x 53 project-jwhite      4096 Sep 19 13:37 patches_for_zola\r\n",
      "drwxr-sr-x  2 project-jwhite      4096 Sep 19 16:00 point_boxes\r\n",
      "-rw-r--r--  1 project-jwhite     15128 Sep 19 16:00 pointlist.npy\r\n",
      "drwxr-sr-x  2 project-jwhite      4096 Sep 19 16:00 points\r\n",
      "-rwxr--r--  1 project-jwhite     12326 Sep 19 11:50 Results.csv\r\n",
      "drwxr-sr-x  2 project-jwhite      4096 Sep 19 16:00 rmswe\r\n",
      "-rw-r--r--  1 project-jwhite     13880 Sep 19 15:59 selected_widths.npy\r\n",
      "-rw-r--r--  1 project-jwhite     14978 Sep 19 15:59 selected_widths.png\r\n"
     ]
    }
   ],
   "source": [
    "file_path_test = '/home/jwhite/projects/aberration_mapping/data/andrea/2022_09_06_Beads_0p2_2ndfloorscope_test2'\n",
    "file_path_test = '/Users/jwhite/Library/Mobile Documents/com~apple~CloudDocs/Science/Grill_Lab/Projects/aberration_mapping/data/andrea/2022_09_06_Beads_0p2_2ndfloorscope_test/'\n",
    "file_path_test = 'projects/aberration_mapping/data/andrea/2022_09_06_Beads_0p2_2ndfloorscope_test2'\n",
    "! ssh falcon \"ls -lga {file_path_test}\""
   ]
  },
  {
   "cell_type": "code",
   "execution_count": 42,
   "outputs": [
    {
     "name": "stdout",
     "output_type": "stream",
     "text": [
      "total 324156\r\n",
      "drwxr-sr-x  9 project-jwhite      4096 Sep 19 16:00 .\r\n",
      "drwxrwsr-x 12 project-jwhite      4096 Sep 19 11:48 ..\r\n",
      "drwxr-sr-x  2 project-jwhite      4096 Sep 19 16:00 abb_maps\r\n",
      "-rw-r--r--  1 project-jwhite      2396 Sep 19 16:00 accepted_points_in_image.png\r\n",
      "-rw-r--r--  1 project-jwhite     51343 Sep 19 15:59 amplitude_distribution.png\r\n",
      "-rwxr--r--  1 project-jwhite 321626563 Sep 19 11:48 beads.tif\r\n",
      "-rwxr--r--  1 project-jwhite      4096 Sep 19 11:50 ._.DS_Store\r\n",
      "-rwxr--r--  1 project-jwhite      6148 Sep 20 10:49 .DS_Store\r\n",
      "-rw-r--r--  1 project-jwhite  10072554 Sep 19 16:00 label_map.tif\r\n",
      "drwxr-sr-x  2 project-jwhite      4096 Sep 19 16:00 measurements\r\n",
      "drwxr-sr-x  2 project-jwhite      4096 Sep 19 16:00 med_measurement\r\n",
      "-rw-r--r--  1 project-jwhite       317 Sep 19 11:48 params.json\r\n",
      "drwxr-sr-x 53 project-jwhite      4096 Sep 19 13:37 patches_for_zola\r\n",
      "drwxr-sr-x  2 project-jwhite      4096 Sep 19 16:00 point_boxes\r\n",
      "-rw-r--r--  1 project-jwhite     15128 Sep 19 16:00 pointlist.npy\r\n",
      "drwxr-sr-x  2 project-jwhite      4096 Sep 19 16:00 points\r\n",
      "-rwxr--r--  1 project-jwhite     12326 Sep 19 11:50 Results.csv\r\n",
      "drwxr-sr-x  2 project-jwhite      4096 Sep 19 16:00 rmswe\r\n",
      "-rw-r--r--  1 project-jwhite     13880 Sep 19 15:59 selected_widths.npy\r\n",
      "-rw-r--r--  1 project-jwhite     14978 Sep 19 15:59 selected_widths.png\r\n"
     ]
    }
   ],
   "source": [
    "! ssh falcon \"ls -lga\" {file_path_test}"
   ],
   "metadata": {
    "collapsed": false,
    "ExecuteTime": {
     "end_time": "2023-10-04T10:13:40.574684Z",
     "start_time": "2023-10-04T10:13:39.184479Z"
    }
   },
   "id": "f2cba02524b4f5b"
  },
  {
   "cell_type": "code",
   "execution_count": 43,
   "outputs": [],
   "source": [
    "! ssh falcon \"cd projects\""
   ],
   "metadata": {
    "collapsed": false,
    "ExecuteTime": {
     "end_time": "2023-10-04T10:13:43.987217Z",
     "start_time": "2023-10-04T10:13:42.690162Z"
    }
   },
   "id": "54d503d07239f01f"
  },
  {
   "cell_type": "code",
   "execution_count": 44,
   "outputs": [
    {
     "name": "stdout",
     "output_type": "stream",
     "text": [
      "/home/jwhite/projects/aberration_mapping/data/andrea/2022_09_06_Beads_0p2_2ndfloorscope_test2\r\n",
      "total 324156\r\n",
      "drwxr-sr-x  9 project-jwhite      4096 Sep 19 16:00 .\r\n",
      "drwxrwsr-x 12 project-jwhite      4096 Sep 19 11:48 ..\r\n",
      "drwxr-sr-x  2 project-jwhite      4096 Sep 19 16:00 abb_maps\r\n",
      "-rw-r--r--  1 project-jwhite      2396 Sep 19 16:00 accepted_points_in_image.png\r\n",
      "-rw-r--r--  1 project-jwhite     51343 Sep 19 15:59 amplitude_distribution.png\r\n",
      "-rwxr--r--  1 project-jwhite 321626563 Sep 19 11:48 beads.tif\r\n",
      "-rwxr--r--  1 project-jwhite      4096 Sep 19 11:50 ._.DS_Store\r\n",
      "-rwxr--r--  1 project-jwhite      6148 Sep 20 10:49 .DS_Store\r\n",
      "-rw-r--r--  1 project-jwhite  10072554 Sep 19 16:00 label_map.tif\r\n",
      "drwxr-sr-x  2 project-jwhite      4096 Sep 19 16:00 measurements\r\n",
      "drwxr-sr-x  2 project-jwhite      4096 Sep 19 16:00 med_measurement\r\n",
      "-rw-r--r--  1 project-jwhite       317 Sep 19 11:48 params.json\r\n",
      "drwxr-sr-x 53 project-jwhite      4096 Sep 19 13:37 patches_for_zola\r\n",
      "drwxr-sr-x  2 project-jwhite      4096 Sep 19 16:00 point_boxes\r\n",
      "-rw-r--r--  1 project-jwhite     15128 Sep 19 16:00 pointlist.npy\r\n",
      "drwxr-sr-x  2 project-jwhite      4096 Sep 19 16:00 points\r\n",
      "-rwxr--r--  1 project-jwhite     12326 Sep 19 11:50 Results.csv\r\n",
      "drwxr-sr-x  2 project-jwhite      4096 Sep 19 16:00 rmswe\r\n",
      "-rw-r--r--  1 project-jwhite     13880 Sep 19 15:59 selected_widths.npy\r\n",
      "-rw-r--r--  1 project-jwhite     14978 Sep 19 15:59 selected_widths.png\r\n"
     ]
    }
   ],
   "source": [
    "! ssh falcon \"cd projects/aberration_mapping/data/andrea/2022_09_06_Beads_0p2_2ndfloorscope_test2/; pwd; ls -lga\""
   ],
   "metadata": {
    "collapsed": false,
    "ExecuteTime": {
     "end_time": "2023-10-04T10:13:47.428948Z",
     "start_time": "2023-10-04T10:13:46.066447Z"
    }
   },
   "id": "a43726e5f4781738"
  },
  {
   "cell_type": "code",
   "execution_count": 46,
   "outputs": [
    {
     "name": "stdout",
     "output_type": "stream",
     "text": [
      "Connected to falcon.\r\n",
      "sftp> cd projects/aberration_mapping/data/andrea/2022_09_06_Beads_0p2_2ndfloorscope_test2\r\n",
      "sftp> get beads.tif\r\n",
      "Fetching /lustre/projects/project-jwhite/projects/aberration_mapping/data/andrea/2022_09_06_Beads_0p2_2ndfloorscope_test2/beads.tif to beads.tif\r\n",
      "beads.tif                                     100%  307MB  40.0MB/s   00:07    \r\n"
     ]
    }
   ],
   "source": [
    "! echo -e \"cd projects/aberration_mapping/data/andrea/2022_09_06_Beads_0p2_2ndfloorscope_test2\\nget beads.tif\" | sftp falcon"
   ],
   "metadata": {
    "collapsed": false,
    "ExecuteTime": {
     "end_time": "2023-10-04T10:15:16.704483Z",
     "start_time": "2023-10-04T10:15:07.562874Z"
    }
   },
   "id": "6834906538873e25"
  },
  {
   "cell_type": "markdown",
   "id": "4b22f73b-087a-4526-a561-b1bfca3332d7",
   "metadata": {},
   "source": [
    "## Fiji application and ImageJ macros"
   ]
  },
  {
   "cell_type": "markdown",
   "id": "8be037ab-4830-4aa6-9d55-ad00342b3beb",
   "metadata": {},
   "source": [
    "### Check Fiji macros ###"
   ]
  },
  {
   "cell_type": "code",
   "execution_count": null,
   "id": "e117b267-ee00-4353-85d2-1c86aa75a132",
   "metadata": {
    "ExecuteTime": {
     "start_time": "2023-10-04T10:06:38.507529Z"
    }
   },
   "outputs": [],
   "source": [
    "# check current macro directory\n",
    "fiji_macro_dir"
   ]
  },
  {
   "cell_type": "code",
   "execution_count": null,
   "id": "e013121a-6a31-47a8-aab8-90e70e23e753",
   "metadata": {
    "ExecuteTime": {
     "start_time": "2023-10-04T10:06:38.508518Z"
    }
   },
   "outputs": [],
   "source": [
    "fiji_macro_path"
   ]
  },
  {
   "cell_type": "code",
   "execution_count": null,
   "id": "493cda20-8d4f-4599-946d-267b6de51362",
   "metadata": {
    "ExecuteTime": {
     "start_time": "2023-10-04T10:06:38.509597Z"
    }
   },
   "outputs": [],
   "source": [
    "# check available macros\n",
    "! ls -lga \"{fiji_macro_dir}\""
   ]
  },
  {
   "cell_type": "markdown",
   "id": "92354361-ca7a-4389-b9c9-3a76151f898b",
   "metadata": {},
   "source": [
    "## Check old parameters if they exist"
   ]
  },
  {
   "cell_type": "code",
   "execution_count": null,
   "id": "5871f898-f136-4ae7-95ab-7e886df43109",
   "metadata": {
    "ExecuteTime": {
     "end_time": "2023-10-04T10:06:38.514907Z",
     "start_time": "2023-10-04T10:06:38.510568Z"
    }
   },
   "outputs": [],
   "source": [
    "# look at parameters from last processing job\n",
    "old_params      = setup_param_file(img_path)\n",
    "type(old_params)\n",
    "old_params"
   ]
  },
  {
   "cell_type": "markdown",
   "id": "2a0ad86c",
   "metadata": {},
   "source": [
    "## Load and show the image"
   ]
  },
  {
   "cell_type": "code",
   "execution_count": null,
   "id": "d0799af9",
   "metadata": {
    "ExecuteTime": {
     "start_time": "2023-10-04T10:06:38.511485Z"
    }
   },
   "outputs": [],
   "source": [
    "img = tifffile.imread(img_path)\n",
    "img_max = np.max(img,0)\n",
    "\n",
    "%matplotlib inline\n",
    "fig, axs = plt.subplots(1,1,figsize=(10,7))\n",
    "plt.imshow(img_max, clim=(np.percentile(img_max,0), np.percentile(img_max,99)))\n",
    "plt.title(\"Full image\");\n",
    "# None;"
   ]
  },
  {
   "cell_type": "markdown",
   "id": "d8639b25",
   "metadata": {},
   "source": [
    "## Load points from csv file and save patches"
   ]
  },
  {
   "cell_type": "code",
   "execution_count": null,
   "id": "3d3fba93-4618-4b9b-b0bf-0529b00dc530",
   "metadata": {
    "scrolled": true,
    "tags": [],
    "ExecuteTime": {
     "start_time": "2023-10-04T10:06:38.512386Z"
    }
   },
   "outputs": [],
   "source": [
    "from main import *\n",
    "find_psf_crops(\n",
    "    img_path, \n",
    "    crop_shape     = crop_shape, \n",
    "    num_folders    = num_folders, \n",
    "    thresh_bck     = thresh_bck, \n",
    "    threshold_dist = thresh_dist,\n",
    "    unit           = unit,\n",
    "    show_ignored   = False, \n",
    "    show_accepted  = False, \n",
    "    headless       = False\n",
    ")"
   ]
  },
  {
   "cell_type": "markdown",
   "id": "d6882620",
   "metadata": {},
   "source": [
    "## Load patches"
   ]
  },
  {
   "cell_type": "code",
   "execution_count": null,
   "id": "138dbcd1",
   "metadata": {
    "ExecuteTime": {
     "start_time": "2023-10-04T10:06:38.513051Z"
    }
   },
   "outputs": [],
   "source": [
    "# load the patches\n",
    "patch_files = glob.glob(f\"{os.path.dirname(img_path)}/patches_for_zola/patches*/planes_10_*.tif\")\n",
    "print(f\"Found {len(patch_files)} patch files\")\n",
    "names = [os.path.splitext(os.path.basename(p))[0] for p in patch_files]\n",
    "crops = {n: tifffile.imread(p) for n, p in zip(names, patch_files)}\n",
    "pos = np.array([list(map(int, re.findall(r'\\d+', n))) for n in names])\n",
    "pos = pos[:,1:]"
   ]
  },
  {
   "cell_type": "code",
   "execution_count": null,
   "id": "3d33a5c5-35a3-4b1e-ba90-93db95145930",
   "metadata": {
    "ExecuteTime": {
     "start_time": "2023-10-04T10:06:38.513652Z"
    }
   },
   "outputs": [],
   "source": [
    "patch_files[:2]"
   ]
  },
  {
   "cell_type": "markdown",
   "id": "621fb3c2",
   "metadata": {},
   "source": [
    "## Show the beads"
   ]
  },
  {
   "cell_type": "code",
   "execution_count": null,
   "id": "2c4222c2",
   "metadata": {
    "scrolled": true,
    "ExecuteTime": {
     "start_time": "2023-10-04T10:06:38.514247Z"
    }
   },
   "outputs": [],
   "source": [
    "i=0\n",
    "for n,pat in crops.items():\n",
    "    zz,yy,xx = pat.shape\n",
    "    x_arr = np.arange(-1*yy//2, yy//2)\n",
    "    z_arr = np.arange(-1*zz//2, zz//2)\n",
    "    fig, axs = plt.subplots(1,2,figsize=(7,3))\n",
    "    print(n, np.max(pat) - np.median(pat))\n",
    "    # print(shannon_entropy(pat))\n",
    "    axs[0].imshow(np.max(pat,0))\n",
    "    im = axs[1].imshow(np.max(pat,1))\n",
    "    plt.colorbar(im)\n",
    "    plt.show()\n",
    "    print(pat.shape)\n",
    "    i=i+1\n",
    "    if i==50:\n",
    "        break\n",
    "None;"
   ]
  },
  {
   "cell_type": "code",
   "execution_count": null,
   "id": "ef432558",
   "metadata": {
    "scrolled": true,
    "ExecuteTime": {
     "start_time": "2023-10-04T10:06:38.514843Z"
    }
   },
   "outputs": [],
   "source": [
    "plt.imshow(img_max, clim=(np.percentile(img_max,3), np.percentile(img_max,99)))\n",
    "plt.plot(pos[:,2], pos[:,1],'r.');"
   ]
  },
  {
   "cell_type": "code",
   "execution_count": null,
   "id": "d2fc5346",
   "metadata": {
    "ExecuteTime": {
     "end_time": "2023-10-04T10:06:38.553341Z",
     "start_time": "2023-10-04T10:06:38.515431Z"
    }
   },
   "outputs": [],
   "source": [
    "snr = []\n",
    "for key,val in crops.items():\n",
    "    val = min_max_norm(val)\n",
    "    snr.append(np.max(val) - np.median(val))\n",
    "snr = np.array(snr)\n",
    "plt.hist(snr.flatten());"
   ]
  },
  {
   "cell_type": "markdown",
   "id": "fde29100",
   "metadata": {
    "tags": []
   },
   "source": [
    "## Run Zola macro via bash command"
   ]
  },
  {
   "cell_type": "markdown",
   "id": "c6ec2a50-5ce1-47f9-9c3e-e0bfa0157a5d",
   "metadata": {},
   "source": [
    "Needs fiji for linux. Copy `Fiji.app` from Debayan's folder.\n",
    "\n",
    "Uses `https://github.com/imodpasteur/ZOLA-3D` plugin: put the file\n",
    "\n",
    "`ZOLA_-0.2.8-SNAPSHOT.jar`\n",
    "\n",
    "into the plugins directory.\n"
   ]
  },
  {
   "cell_type": "markdown",
   "id": "96b5b745-2634-48bf-a2ff-087c3526b38e",
   "metadata": {
    "jp-MarkdownHeadingCollapsed": true,
    "tags": []
   },
   "source": [
    "### Troubleshooting ###"
   ]
  },
  {
   "cell_type": "markdown",
   "id": "bc80682e-d047-4925-8b70-fed927ca6f6f",
   "metadata": {
    "tags": []
   },
   "source": [
    "**Test Deb's ImageJ macro**"
   ]
  },
  {
   "cell_type": "code",
   "execution_count": null,
   "id": "0b2d753c-2bf6-441d-971c-4dc5436f2fce",
   "metadata": {
    "ExecuteTime": {
     "start_time": "2023-10-04T10:06:38.516058Z"
    }
   },
   "outputs": [],
   "source": [
    "i = 29\n",
    "INPUT_DIR=f\"{save_dir}patches_for_zola/patches_{i}\"\n",
    "fiji_command = \"/usr/bin/java -jar /Applications/ImageJ.app/Contents/Java/ij.jar -batch\"\n",
    "# fiji_command = \"/usr/bin/java -jar /Applications/ImageJ.app/Contents/Java/ij.jar -run\"\n",
    "fiji_path = '/home/jwhite/fiji/Fiji.app/ImageJ-linux64 ' # location on cluster\n",
    "print(f\"{INPUT_DIR}\")\n",
    "print()\n",
    "print(f\"{fiji_macro_path}\")\n",
    "print()\n",
    "# print(f'{fiji_path}')\n",
    "print(f\"{fiji_command}\")\n",
    "print()\n",
    "print(f'{fiji_command}  \"{fiji_macro_path}\"  \"{INPUT_DIR}\"')"
   ]
  },
  {
   "cell_type": "code",
   "execution_count": null,
   "id": "6808469d-f006-4d6e-ad18-f1a96cb247f3",
   "metadata": {
    "scrolled": true,
    "tags": [],
    "ExecuteTime": {
     "start_time": "2023-10-04T10:06:38.516659Z"
    }
   },
   "outputs": [],
   "source": [
    "# ! {fiji_command}  \"{fiji_macro_path}\"  \"{INPUT_DIR}\""
   ]
  },
  {
   "cell_type": "code",
   "execution_count": null,
   "id": "d95f2a9d-69ef-4c59-99f4-5f580103b42e",
   "metadata": {
    "ExecuteTime": {
     "start_time": "2023-10-04T10:06:38.517256Z"
    }
   },
   "outputs": [],
   "source": [
    "! ssh falcon  \"sbatch /home/jwhite/projects/aberration_mapping/scripts/bashscript_fiji.sh /home/jwhite/projects/aberration_mapping/imageJ_macros/zola_macro_cluster_1p2_z_50.ijm  '/home/jwhite/projects/aberration_mapping/data/andrea/0p5mkBeadsDICHmirror_4/patches_for_zola/patches_28/' \""
   ]
  },
  {
   "cell_type": "code",
   "execution_count": null,
   "outputs": [],
   "source": [
    "! ssh falcon \"squeue -u jwhite\""
   ],
   "metadata": {
    "collapsed": false,
    "ExecuteTime": {
     "start_time": "2023-10-04T10:06:38.517863Z"
    }
   },
   "id": "3354fc3d7c5479a"
  },
  {
   "cell_type": "code",
   "execution_count": null,
   "outputs": [],
   "source": [
    "# local_macro_for_remote = 'imageJ_macros/zola_macro_cluster_1p2_z_50.ijm'\n",
    "# fiji_path = '/home/jwhite/fiji/Fiji.app/ImageJ-linux64'\n",
    "\n",
    "fiji_macro_path = 'imageJ_macros/zola_macro_cluster_1p2_z_50_2ndfloor.ijm'\n",
    "\n",
    "zola_script_path = 'scripts/bashscript_fiji.sh'\n",
    "\n",
    "INPUT_DIR = \"data/andrea/2022_09_06_Beads_0p2_2ndfloorscope_test/patches_for_zola/patches_29\"\n",
    "\n",
    "print(f\"sbatch  {zola_script_path} {fiji_macro_path} {INPUT_DIR}\")"
   ],
   "metadata": {
    "collapsed": false,
    "ExecuteTime": {
     "start_time": "2023-10-04T10:06:38.518459Z"
    }
   },
   "id": "622743ecf207b390"
  },
  {
   "cell_type": "code",
   "execution_count": null,
   "outputs": [],
   "source": [
    "print(f\"cd projects/aberration_mapping; sbatch {zola_script_path} {fiji_macro_path} {INPUT_DIR}\")"
   ],
   "metadata": {
    "collapsed": false,
    "ExecuteTime": {
     "start_time": "2023-10-04T10:06:38.519019Z"
    }
   },
   "id": "8f81812361c641f"
  },
  {
   "cell_type": "code",
   "execution_count": null,
   "outputs": [],
   "source": [
    "! ssh falcon \"cd projects/aberration_mapping; sbatch {} {zola_script_path} {fiji_macro_path} {INPUT_DIR}\""
   ],
   "metadata": {
    "collapsed": false,
    "ExecuteTime": {
     "start_time": "2023-10-04T10:06:38.519631Z"
    }
   },
   "id": "e269ce1f77865962"
  },
  {
   "cell_type": "code",
   "execution_count": null,
   "outputs": [],
   "source": [
    "! ssh falcon \"squeue -u jwhite\""
   ],
   "metadata": {
    "collapsed": false,
    "ExecuteTime": {
     "start_time": "2023-10-04T10:06:38.520187Z"
    }
   },
   "id": "90ad7c1bcf025bf1"
  },
  {
   "cell_type": "code",
   "execution_count": null,
   "outputs": [],
   "source": [
    "! ls -lga"
   ],
   "metadata": {
    "collapsed": false,
    "ExecuteTime": {
     "start_time": "2023-10-04T10:06:38.520871Z"
    }
   },
   "id": "aa13a79b11397ae7"
  },
  {
   "cell_type": "code",
   "execution_count": null,
   "outputs": [],
   "source": [
    "! cat scripts/bashscript_fiji.sh | ssh falcon sbatch\n",
    "\n",
    "# !sbatch /home/jwhite/projects/aberration_mapping/scripts/bashscript_fiji.sh {FIJI_MACRO_PATH} {INPUT_DIR}"
   ],
   "metadata": {
    "collapsed": false,
    "ExecuteTime": {
     "start_time": "2023-10-04T10:06:38.521503Z"
    }
   },
   "id": "6db7962e-ad6a-4438-9c80-442cb0c233ee"
  },
  {
   "cell_type": "code",
   "execution_count": null,
   "id": "33303cd2-df4a-4286-b76b-2dd96ca7090a",
   "metadata": {
    "ExecuteTime": {
     "start_time": "2023-10-04T10:06:38.522136Z"
    }
   },
   "outputs": [],
   "source": [
    "# be sure the std/ directory exists\n",
    "# !sbatch  -J {i} -e std/{i}.err -o std/{i}.out /home/jwhite/projects/aberration_mapping/scripts/bashscript_fiji.sh {FIJI_MACRO_PATH} {INPUT_DIR}"
   ]
  },
  {
   "cell_type": "markdown",
   "id": "7cddd618-a084-4628-a65e-67bf1dec97c5",
   "metadata": {
    "tags": []
   },
   "source": [
    "### Run Zola analysis on cluster ###"
   ]
  },
  {
   "cell_type": "code",
   "execution_count": null,
   "id": "13044a22-59e5-45c2-8008-e689345d4c08",
   "metadata": {
    "scrolled": true,
    "tags": [],
    "ExecuteTime": {
     "start_time": "2023-10-04T10:06:38.522728Z"
    }
   },
   "outputs": [],
   "source": [
    "# Deleting the zola_raw folder and creating a new one\n",
    "shutil.rmtree(f\"{save_dir}/patches_for_zola/zola_raw/\", ignore_errors=True)\n",
    "os.makedirs(  f\"{save_dir}/patches_for_zola/zola_raw/\")\n",
    "\n",
    "INPUT_DIR=f\"{save_dir}/patches_for_zola/patches_{i}\""
   ]
  },
  {
   "cell_type": "code",
   "execution_count": null,
   "id": "69cc9467-35cb-4a8e-ad48-99449276647b",
   "metadata": {
    "ExecuteTime": {
     "start_time": "2023-10-04T10:06:38.523319Z"
    }
   },
   "outputs": [],
   "source": [
    "# check what we are sending to command line\n",
    "! echo {zola_script_path}\n",
    "print()\n",
    "! echo {FIJI_MACRO_PATH}\n",
    "print()\n",
    "! echo {INPUT_DIR} "
   ]
  },
  {
   "cell_type": "code",
   "execution_count": null,
   "id": "37105736-d4a6-475b-90fd-3674293ad9e3",
   "metadata": {
    "scrolled": true,
    "tags": [],
    "ExecuteTime": {
     "start_time": "2023-10-04T10:06:38.523930Z"
    }
   },
   "outputs": [],
   "source": [
    "# not sure why Debayan had jobs split into two groups\n",
    "#\n",
    "# ***** be sure the std/ directory exists *****\n",
    "#\n",
    "# running zola on all the patches\n",
    "for i in range(35):\n",
    "# for i in [28]:\n",
    "# for i in range(1):\n",
    "# for i in range(0,num_folders):\n",
    "    FIJI_MACRO_PATH = fiji_macro_path\n",
    "    INPUT_DIR=f\"{save_dir}/patches_for_zola/patches_{i}\"\n",
    "    !sbatch -J {i} -e std/{i}.err -o std/{i}.out {zola_script_path} {FIJI_MACRO_PATH} {INPUT_DIR}\n",
    "    # print()\n",
    "#     break\n",
    "\n",
    "for i in range(35, num_folders):\n",
    "    INPUT_DIR=f\"{save_dir}/patches_for_zola/patches_{i}\"\n",
    "    print(INPUT_DIR)\n",
    "    print(zola_script_path)\n",
    "    !sbatch -J {i} -e std/{i}.err -o std/{i}.out {zola_script_path} {FIJI_MACRO_PATH} {INPUT_DIR}\n",
    "    print()"
   ]
  },
  {
   "cell_type": "code",
   "execution_count": null,
   "outputs": [],
   "source": [
    "l = !ssh falcon \"squeue -u jwhite\"\n",
    "l = l[1:]\n",
    "l"
   ],
   "metadata": {
    "collapsed": false,
    "ExecuteTime": {
     "start_time": "2023-10-04T10:06:38.524554Z"
    }
   },
   "id": "bbe48397eaff658c"
  },
  {
   "cell_type": "code",
   "execution_count": null,
   "id": "92c8f871",
   "metadata": {
    "ExecuteTime": {
     "start_time": "2023-10-04T10:06:38.525162Z"
    }
   },
   "outputs": [],
   "source": [
    "# monitor progress....\n",
    "l = !ssh falcon \"squeue -u jwhite\"\n",
    "l = l[1:]\n",
    "n = len(l)\n",
    "while n > 0:\n",
    "    clear_output(wait=False)\n",
    "    l = !ssh falcon \"squeue -u jwhite\"\n",
    "    l = l[1:]\n",
    "    n=len(l)\n",
    "    display(f'{n} files to go')\n",
    "    sleep(1)"
   ]
  },
  {
   "cell_type": "markdown",
   "id": "a4b20f6d-f971-44ac-9d34-08a080124cbd",
   "metadata": {},
   "source": [
    "## Write current parameters to `params.json`"
   ]
  },
  {
   "cell_type": "code",
   "execution_count": null,
   "id": "9a17ffb9",
   "metadata": {
    "ExecuteTime": {
     "start_time": "2023-10-04T10:06:38.525768Z"
    }
   },
   "outputs": [],
   "source": [
    "# Write to params file\n",
    "params = {\n",
    "    'crop_shape':crop_shape, \n",
    "    'unit':unit, \n",
    "    'abb_list': abb_list, \n",
    "    'FIJI_MACRO_PATH': FIJI_MACRO_PATH, \n",
    "    'COMPUTERNAME' : socket.gethostname(),\n",
    "    'thresh_bck':thresh_bck, \n",
    "    'lam':lam, \n",
    "    'thresh_dist':thresh_dist\n",
    "}\n",
    "\n",
    "write_to_param_file(img_path, params)"
   ]
  },
  {
   "cell_type": "markdown",
   "source": [
    "## Sample Fiji macro"
   ],
   "metadata": {
    "collapsed": false
   },
   "id": "e87d411249732b4d"
  },
  {
   "cell_type": "markdown",
   "source": [
    "```\n",
    "/*\n",
    " * @Debayan MPI-CBG\n",
    " */\n",
    "\n",
    "file_path = getArgument();\n",
    "print(\"In macro\");\n",
    "print(file_path);\n",
    "processFolder(file_path); \n",
    "\n",
    "// function to scan folders/subfolders/files to find files with correct suffix\n",
    "function processFolder(input) {\n",
    "\tstart = getTime();\n",
    "\tprint(input)\n",
    "\tlist = getFileList(input);\n",
    "\tlist = Array.sort(list);\n",
    "\tprint(list.length)\n",
    "\tfor (i = 0; i < list.length; i++) {\n",
    "\t\tprint(list[i]);\n",
    "\t\tif(File.isDirectory(input + File.separator + list[i])){\n",
    "\t\t\tl = substring(list[i], 0, lengthOf(list[i])-1);\n",
    "\t\t\tprocessFolder(input + File.separator + l + File.separator);\n",
    "\t\t}\n",
    "\t\tif(endsWith(list[i], \".tif\")){\n",
    "\t\t\tprocessFile(input, list[i]);\n",
    "\t\t}\n",
    "\t}\n",
    "\tprint(\"Totoal Time: \"+(getTime()-start)/1000);   \n",
    "}\n",
    "\n",
    "function processFile(input, file) {\n",
    "\tprint(\"Processing: \"+ input + File.separator + file);\n",
    "\tif (indexOf(input, \"patches\") > 0) {\n",
    "\t\tif (!File.exists(File.getParent(input) + File.separator + \"zola_raw\")){\n",
    "\t\t\tFile.makeDirectory(File.getParent(input) + File.separator + \"zola_raw\"); \n",
    "\t\t}\n",
    "\toutput = File.getParent(input) + File.separator + \"zola_raw\"+ File.separator + substring(file, 0, indexOf(file, '.tif'))+'.json';\n",
    "\tprint(output);\n",
    "\n",
    "\topen(input + File.separator + file);\n",
    "\tsetSlice((nSlices+1)/2); \n",
    "\tmakePoint(getWidth()/2, getHeight()/2);\n",
    "\twid = 64;\n",
    "\trun(\" Calibration: PSF modeling\", \"run_on_gpu gain=1 pixel_size=200 z_step=50 bead_moving=[far -> close to objective] numerical_aperture=1.2 immersion_refractive=1.33 wavelength=0.515 patch_size=\"+wid+\" zernike_coefficient=[Zernike 15 coefs] iteration=20 result_calibration_file=\"+output);\n",
    "\trun(\"Close All\");\n",
    "\t}\n",
    "\telse{print(\"No patches\");\n",
    "\t}\n",
    "}\n",
    "\n",
    "```"
   ],
   "metadata": {
    "collapsed": false
   },
   "id": "df6bfdacd993c6cc"
  },
  {
   "cell_type": "markdown",
   "source": [
    "## Sample Zola bash scripts ##\n"
   ],
   "metadata": {
    "collapsed": false
   },
   "id": "9b95548db936fda9"
  },
  {
   "cell_type": "markdown",
   "source": [
    "\n",
    "**`/projects/project-dsaha/insitu_psf/bashscript_fiji.sh`**\n",
    "\n",
    "```\n",
    "#!/bin/bash\n",
    "#SBATCH -J \"One\"\n",
    "#SBATCH -t 8:00:00\n",
    "#SBATCH -n 1\n",
    "#SBATCH -N 1\n",
    "#SBATCH --partition=gpu\n",
    "#SBATCH --gres=gpu:1\n",
    "#SBATCH --mem 1000\n",
    "\n",
    "\n",
    "#export OPENBLAS_NUM_THREADS=4\n",
    "\n",
    "module unload cuda\n",
    "module load cuda/10.0.130\n",
    "#module load cuda/9.0.176\n",
    "\n",
    "echo \"Starting Fiji script\"\n",
    "\n",
    "\n",
    "FIJI_MACRO_FILEPATH=$1\n",
    "PATCHES_FOLDER_PATH=$2\n",
    "echo ${FIJI_MACRO_FILEPATH}\n",
    "echo ${PATCHES_FOLDER_PATH}\n",
    "echo \"Bashscript\"\n",
    "/projects/project-dsaha/Fiji_jobs/Fiji.app/ImageJ-linux64 --headless -batch ${FIJI_MACRO_FILEPATH} ${PATCHES_FOLDER_PATH}\n",
    "\n",
    "echo \"Finishing Fiji script\"\n",
    "\n",
    "```"
   ],
   "metadata": {
    "collapsed": false
   },
   "id": "3c3ffee65259237e"
  },
  {
   "cell_type": "markdown",
   "source": [
    "**`/home/jwhite/projects/aberration_mapping/scripts/bashscript_fiji.sh`**\n",
    "\n",
    "```\n",
    "#!/bin/bash\n",
    "#SBATCH -J \"One\"\n",
    "#SBATCH -t 8:00:00\n",
    "#SBATCH -n 1\n",
    "#SBATCH -N 1\n",
    "#SBATCH --partition=gpu\n",
    "#SBATCH --gres=gpu:1\n",
    "#SBATCH --mem 1000\n",
    "\n",
    "\n",
    "#export OPENBLAS_NUM_THREADS=4\n",
    "\n",
    "module unload cuda\n",
    "module load cuda/10.0.130\n",
    "#module load cuda/9.0.176\n",
    "\n",
    "echo \"Starting Fiji script\"\n",
    "\n",
    "\n",
    "FIJI_MACRO_FILEPATH=$1\n",
    "PATCHES_FOLDER_PATH=$2\n",
    "echo ${FIJI_MACRO_FILEPATH}\n",
    "echo ${PATCHES_FOLDER_PATH}\n",
    "echo \"Bashscript\"\n",
    "/home/jwhite/fiji/Fiji.app/ImageJ-linux64 --headless -batch ${FIJI_MACRO_FILEPATH} ${PATCHES_FOLDER_PATH}\n",
    "\n",
    "echo \"Finishing Fiji script\"\n",
    "\n",
    "\n",
    "```"
   ],
   "metadata": {
    "collapsed": false
   },
   "id": "43cf6a7908fdff76"
  },
  {
   "cell_type": "markdown",
   "source": [
    "**`/projects/project-dsaha/insitu_psf/bashscript_fiji_short.sh`**\n",
    "\n",
    "```\n",
    "#!/bin/bash\n",
    "#SBATCH -J \"One\"\n",
    "#SBATCH -t 1:00:00\n",
    "#SBATCH -n 1\n",
    "#SBATCH -N 1\n",
    "#SBATCH --partition=short\n",
    "#SBATCH --gres=gpu:1\n",
    "#SBATCH --mem 5000\n",
    "\n",
    "\n",
    "#export OPENBLAS_NUM_THREADS=4\n",
    "\n",
    "module unload cuda\n",
    "module load cuda/10.0.130\n",
    "#module load cuda/9.0.176\n",
    "\n",
    "echo \"Starting Fiji script\"\n",
    "\n",
    "\n",
    "FIJI_MACRO_FILEPATH=$1\n",
    "PATCHES_FOLDER_PATH=$2\n",
    "echo ${FIJI_MACRO_FILEPATH}\n",
    "echo ${PATCHES_FOLDER_PATH}\n",
    "echo \"Bashscript\"\n",
    "/projects/project-dsaha/Fiji_jobs/Fiji.app/ImageJ-linux64 --headless -batch ${FIJI_MACRO_FILEPATH} ${PATCHES_FOLDER_PATH}\n",
    "\n",
    "echo \"Finishing Fiji script\"\n",
    "\n",
    "\n",
    "```"
   ],
   "metadata": {
    "collapsed": false
   },
   "id": "88ae3dcfcb19e241"
  },
  {
   "cell_type": "markdown",
   "id": "d4f1cdb1-ad5d-4406-92e2-7b59a3ae5ffa",
   "metadata": {},
   "source": [
    "# End #"
   ]
  },
  {
   "cell_type": "raw",
   "id": "f1d1dcdc",
   "metadata": {},
   "source": [
    "!scancel 43774917      "
   ]
  },
  {
   "cell_type": "raw",
   "id": "7e161e4e",
   "metadata": {},
   "source": [
    "for i in range(43778722, 43778720):\n",
    "    !scancel {i}"
   ]
  }
 ],
 "metadata": {
  "kernelspec": {
   "display_name": "Python 3 (ipykernel)",
   "language": "python",
   "name": "python3"
  },
  "language_info": {
   "codemirror_mode": {
    "name": "ipython",
    "version": 3
   },
   "file_extension": ".py",
   "mimetype": "text/x-python",
   "name": "python",
   "nbconvert_exporter": "python",
   "pygments_lexer": "ipython3",
   "version": "3.11.0"
  }
 },
 "nbformat": 4,
 "nbformat_minor": 5
}
